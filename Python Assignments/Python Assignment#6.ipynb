{
 "cells": [
  {
   "cell_type": "markdown",
   "id": "4ac026d4",
   "metadata": {},
   "source": [
    "## Assignment - 6 "
   ]
  },
  {
   "cell_type": "markdown",
   "id": "57f191d4",
   "metadata": {},
   "source": [
    "Q1. What are escape characters, and how do you use them?\n",
    "\n",
    "Ans: Escape characters are special characters that are used to represent certain characters that cannot be typed directly as part of a string. They are used by prefixing a backslash (\\) before the character that needs to be escaped.\n",
    "\n",
    "For example, the newline character (\\n) is used to represent a new line in a string. So, if you want to print the string \"Hello\\nworld\", you would use the escape character as follows:"
   ]
  },
  {
   "cell_type": "code",
   "execution_count": 2,
   "id": "19e13eb2",
   "metadata": {},
   "outputs": [
    {
     "name": "stdout",
     "output_type": "stream",
     "text": [
      "Hello\n",
      "world\n"
     ]
    }
   ],
   "source": [
    "print(\"Hello\\nworld\")"
   ]
  },
  {
   "cell_type": "markdown",
   "id": "e528b76b",
   "metadata": {},
   "source": [
    "Q2. What do the escape characters n and t stand for?\n",
    "\n",
    "Ans: The escape character \\n stands for a newline, and the escape character \\t stands for a horizontal tab.\n"
   ]
  },
  {
   "cell_type": "markdown",
   "id": "f3a973ba",
   "metadata": {},
   "source": [
    "Q3. What is the way to include backslash characters in a string?\n",
    "\n",
    "Ans: To include backslash characters in a string, you need to use a double backslash (\\\\). The first backslash serves as an escape character, indicating that the second backslash should be interpreted literally as a backslash character. For example, to represent the string C:\\Users\\, you would write it as C:\\\\Users\\\\ using double backslashes to escape the backslashes."
   ]
  },
  {
   "cell_type": "markdown",
   "id": "be17118e",
   "metadata": {},
   "source": [
    "Q4. The string \"Howl's Moving Castle\" is a correct value. Why isn't the single quote character in the word Howl's not escaped a problem?\n",
    "\n",
    "Ans: The single quote character in the word Howl's is not a problem because the entire string is enclosed in double quotes. This means that the single quote character is treated as a regular character in the string rather than as a delimiter for the end of the string. The use of double quotes to enclose a string is interchangeable with using single quotes in Python, as long as the same type of quotes are not used inside the string itself."
   ]
  },
  {
   "cell_type": "markdown",
   "id": "c1442076",
   "metadata": {},
   "source": [
    "Q5. How do you write a string of newlines if you don't want to use the n character?\n",
    "\n",
    "Ans: If you don't want to use the \\n character, you can use triple quotes (''' or \"\"\") to create a multi-line string. For example:"
   ]
  },
  {
   "cell_type": "code",
   "execution_count": 5,
   "id": "f69bc179",
   "metadata": {},
   "outputs": [],
   "source": [
    "multiline_string = '''This is a\n",
    "                    multi-line\n",
    "                    string.'''\n",
    "\n",
    "# This will create a string with three lines, each ending with a newline character."
   ]
  },
  {
   "cell_type": "markdown",
   "id": "4e0dd889",
   "metadata": {},
   "source": [
    "Q6. What are the values of the given expressions?\n",
    "\n",
    "'Hello, world!'[1]\n",
    "\n",
    "'Hello, world!'[0:5]\n",
    "\n",
    "'Hello, world!'[:5]\n",
    "\n",
    "'Hello, world!'[3:]\n",
    "\n",
    "Ans: The values of the given expressions:\n",
    "\n",
    "'Hello, world!'[1] evaluates to 'e'\n",
    "\n",
    "'Hello, world!'[0:5] evaluates to 'Hello'\n",
    "\n",
    "'Hello, world!'[:5] evaluates to 'Hello'\n",
    "\n",
    "'Hello, world!'[3:] evaluates to 'lo, world!'"
   ]
  },
  {
   "cell_type": "code",
   "execution_count": 7,
   "id": "a803b246",
   "metadata": {},
   "outputs": [
    {
     "data": {
      "text/plain": [
       "'e'"
      ]
     },
     "execution_count": 7,
     "metadata": {},
     "output_type": "execute_result"
    }
   ],
   "source": [
    "'Hello, world!'[1]"
   ]
  },
  {
   "cell_type": "code",
   "execution_count": 8,
   "id": "328d4c21",
   "metadata": {},
   "outputs": [
    {
     "data": {
      "text/plain": [
       "'Hello'"
      ]
     },
     "execution_count": 8,
     "metadata": {},
     "output_type": "execute_result"
    }
   ],
   "source": [
    "'Hello, world!'[0:5]"
   ]
  },
  {
   "cell_type": "code",
   "execution_count": 9,
   "id": "e90f84c7",
   "metadata": {},
   "outputs": [
    {
     "data": {
      "text/plain": [
       "'Hello'"
      ]
     },
     "execution_count": 9,
     "metadata": {},
     "output_type": "execute_result"
    }
   ],
   "source": [
    "'Hello, world!'[:5]"
   ]
  },
  {
   "cell_type": "code",
   "execution_count": 10,
   "id": "58c981fc",
   "metadata": {},
   "outputs": [
    {
     "data": {
      "text/plain": [
       "'lo, world!'"
      ]
     },
     "execution_count": 10,
     "metadata": {},
     "output_type": "execute_result"
    }
   ],
   "source": [
    "'Hello, world!'[3:]"
   ]
  },
  {
   "cell_type": "markdown",
   "id": "e17df637",
   "metadata": {},
   "source": [
    "Q7. What are the values of the following expressions?\n",
    "\n",
    "'Hello'.upper()\n",
    "\n",
    "'Hello'.upper().isupper()\n",
    "\n",
    "'Hello'.upper().lower()\n",
    "\n",
    "Ans: The values of the given expressions\n",
    "    \n",
    "'HELLO'\n",
    "\n",
    "'True'\n",
    "\n",
    "'hello'"
   ]
  },
  {
   "cell_type": "code",
   "execution_count": 13,
   "id": "3a5c9d22",
   "metadata": {},
   "outputs": [
    {
     "data": {
      "text/plain": [
       "'HELLO'"
      ]
     },
     "execution_count": 13,
     "metadata": {},
     "output_type": "execute_result"
    }
   ],
   "source": [
    "'Hello'.upper()"
   ]
  },
  {
   "cell_type": "code",
   "execution_count": 14,
   "id": "31b638d1",
   "metadata": {},
   "outputs": [
    {
     "data": {
      "text/plain": [
       "True"
      ]
     },
     "execution_count": 14,
     "metadata": {},
     "output_type": "execute_result"
    }
   ],
   "source": [
    "'Hello'.upper().isupper()"
   ]
  },
  {
   "cell_type": "code",
   "execution_count": 15,
   "id": "8d54dc64",
   "metadata": {},
   "outputs": [
    {
     "data": {
      "text/plain": [
       "'hello'"
      ]
     },
     "execution_count": 15,
     "metadata": {},
     "output_type": "execute_result"
    }
   ],
   "source": [
    "'Hello'.upper().lower()"
   ]
  },
  {
   "cell_type": "markdown",
   "id": "1fa9d1f4",
   "metadata": {},
   "source": [
    "Q8. What are the values of the following expressions?\n",
    "\n",
    "'Remember, remember, the fifth of July.'.split()\n",
    "\n",
    "'-'.join('There can only one.'.split())\n",
    "\n",
    "Ans: The value of the given expressions are"
   ]
  },
  {
   "cell_type": "code",
   "execution_count": 16,
   "id": "fff8eb69",
   "metadata": {},
   "outputs": [
    {
     "data": {
      "text/plain": [
       "'There-can-only-one.'"
      ]
     },
     "execution_count": 16,
     "metadata": {},
     "output_type": "execute_result"
    }
   ],
   "source": [
    "'Remember, remember, the fifth of July.'.split()\n",
    "'-'.join('There can only one.'.split())"
   ]
  },
  {
   "cell_type": "markdown",
   "id": "5258093c",
   "metadata": {},
   "source": [
    "Q9. What are the methods for right-justifying, left-justifying, and centering a string?\n",
    "\n",
    "Ans: The methods for right-justifying, left-justifying, and centering a string in Python are:\n",
    "\n",
    "- Right-justifying: rjust()\n",
    "\n",
    "- Left-justifying: ljust()\n",
    "\n",
    "- Centering: center()\n",
    "\n",
    "These methods can be called on a string and take a single argument, which is the width of the final string. "
   ]
  },
  {
   "cell_type": "markdown",
   "id": "55f92d64",
   "metadata": {},
   "source": [
    "Q10. What is the best way to remove whitespace characters from the start or end?\n",
    "\n",
    "Ans: The best way to remove whitespace characters from the start or end of a string is to use the strip() method. This method removes any leading or trailing whitespace characters (spaces, tabs, and newlines) from the string and returns the result. "
   ]
  }
 ],
 "metadata": {
  "kernelspec": {
   "display_name": "Python 3 (ipykernel)",
   "language": "python",
   "name": "python3"
  },
  "language_info": {
   "codemirror_mode": {
    "name": "ipython",
    "version": 3
   },
   "file_extension": ".py",
   "mimetype": "text/x-python",
   "name": "python",
   "nbconvert_exporter": "python",
   "pygments_lexer": "ipython3",
   "version": "3.9.13"
  }
 },
 "nbformat": 4,
 "nbformat_minor": 5
}
