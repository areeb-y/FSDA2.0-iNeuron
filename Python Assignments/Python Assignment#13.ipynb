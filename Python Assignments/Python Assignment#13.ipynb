{
 "cells": [
  {
   "cell_type": "markdown",
   "id": "036d879a",
   "metadata": {},
   "source": [
    "# Assignment 13"
   ]
  },
  {
   "cell_type": "markdown",
   "id": "06144a56",
   "metadata": {},
   "source": [
    "Q1. What advantages do Excel spreadsheets have over CSV spreadsheets?\n",
    "\n",
    "Ans: Excel spreadsheets have several advantages over CSV spreadsheets:\n",
    "\n",
    "- Formatting: Excel supports formatting options such as font style, size, color, and borders. This makes it easier to present data in a way that is visually appealing and easy to read.\n",
    "\n",
    "- Formulas: Excel allows you to create formulas to perform calculations on your data. This can save time and reduce the chance of errors when working with large amounts of data.\n",
    "\n",
    "- Multiple sheets: Excel allows you to create multiple sheets within a single workbook. This can be useful when working with related data that needs to be organized into different categories or groups.\n",
    "\n",
    "- Graphs and charts: Excel has built-in tools for creating graphs and charts from your data. This can help you to visualize your data and identify trends or patterns more easily.\n",
    "\n",
    "- Macro support: Excel supports macros, which are automated scripts that can perform repetitive tasks. This can save time and reduce the chance of errors when working with large amounts of data. "
   ]
  },
  {
   "cell_type": "markdown",
   "id": "9fe3ab00",
   "metadata": {},
   "source": [
    "Q2. What do you pass to csv.reader() and csv.writer() to create reader and writer objects?\n",
    "\n",
    "Ans: \n",
    "To create reader and writer objects, you need to pass file objects obtained by opening the CSV file in the appropriate mode. "
   ]
  },
  {
   "cell_type": "markdown",
   "id": "06cbbebe",
   "metadata": {},
   "source": [
    "Q3. What modes do File objects for reader and writer objects need to be opened in?\n",
    "\n",
    "Ans: \n",
    "For a reader object, the File object needs to be opened in read mode ('r'). For a writer object, the File object needs to be opened in write mode ('w') or append mode ('a') if we want to add new rows to an existing file."
   ]
  },
  {
   "cell_type": "markdown",
   "id": "8717f1d8",
   "metadata": {},
   "source": [
    "Q4. What method takes a list argument and writes it to a CSV file?\n",
    "\n",
    "Ans: The writerow() method takes a list argument and writes it as a row to a CSV file using a writer object."
   ]
  },
  {
   "cell_type": "markdown",
   "id": "cb8c76e1",
   "metadata": {},
   "source": [
    "Q5. What do the keyword arguments delimiter and line terminator do?\n",
    "\n",
    "Ans: The delimiter keyword argument specifies the character used to separate fields in a CSV file. The default delimiter is a comma (,), but it can be changed to any character.\n",
    "\n",
    "The line terminator keyword argument specifies the character used to terminate lines in a CSV file. The default line terminator is the newline character (\\n), but it can be changed to any character or string."
   ]
  },
  {
   "cell_type": "markdown",
   "id": "0318968b",
   "metadata": {},
   "source": [
    "Q6. What function takes a string of JSON data and returns a Python data structure?\n",
    "\n",
    "Ans: The json.loads() function takes a string of JSON data and returns a Python data structure, typically a dictionary or a list."
   ]
  },
  {
   "cell_type": "markdown",
   "id": "6647ef41",
   "metadata": {},
   "source": [
    "Q7. What function takes a Python data structure and returns a string of JSON data?\n",
    "\n",
    "Ans: The json.dumps() function can be used to take a Python data structure and return a string of JSON data."
   ]
  }
 ],
 "metadata": {
  "kernelspec": {
   "display_name": "Python 3 (ipykernel)",
   "language": "python",
   "name": "python3"
  },
  "language_info": {
   "codemirror_mode": {
    "name": "ipython",
    "version": 3
   },
   "file_extension": ".py",
   "mimetype": "text/x-python",
   "name": "python",
   "nbconvert_exporter": "python",
   "pygments_lexer": "ipython3",
   "version": "3.9.13"
  }
 },
 "nbformat": 4,
 "nbformat_minor": 5
}
