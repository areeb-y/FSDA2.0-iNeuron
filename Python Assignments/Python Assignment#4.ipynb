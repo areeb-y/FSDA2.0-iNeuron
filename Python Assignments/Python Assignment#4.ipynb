{
 "cells": [
  {
   "cell_type": "markdown",
   "id": "5b05e58e",
   "metadata": {},
   "source": [
    "## Assignment - 4 "
   ]
  },
  {
   "cell_type": "markdown",
   "id": "ac518113",
   "metadata": {},
   "source": [
    "Q1. What exactly is []?\n",
    "\n",
    "Ans: [] is an empty list, which is a mutable data type that can store a collection of items separated by commas and enclosed in square brackets. An empty list contains no elements, and its length is zero. It can be used to initialize a list variable that will be populated later with items, or to check if a list is empty using conditional statements."
   ]
  },
  {
   "cell_type": "markdown",
   "id": "fcead5fe",
   "metadata": {},
   "source": [
    "Q2. In a list of values stored in a variable called spam, how would you assign the value 'hello' as the\n",
    "third value? (Assume [2, 4, 6, 8, 10] are in spam.)\n",
    "\n",
    "Ans: You can assign the value 'hello' as the third value in the list by using the index notation to access the third element (index 2) and assigning the value to it as follows:"
   ]
  },
  {
   "cell_type": "code",
   "execution_count": 2,
   "id": "6da5ecb6",
   "metadata": {},
   "outputs": [
    {
     "name": "stdout",
     "output_type": "stream",
     "text": [
      "[2, 4, 'hello', 8, 10]\n"
     ]
    }
   ],
   "source": [
    "spam = [2, 4, 6, 8, 10]\n",
    "spam[2] = 'hello'\n",
    "print(spam)\n",
    "\n"
   ]
  },
  {
   "cell_type": "markdown",
   "id": "a1e4a698",
   "metadata": {},
   "source": [
    "After running the above code, the third element of the spam list will be replaced with the string 'hello'."
   ]
  },
  {
   "cell_type": "markdown",
   "id": "eb85f708",
   "metadata": {},
   "source": [
    "- Let's pretend the spam includes the list ['a','b','c','d'] for the next three queries.\n",
    "\n",
    "Q3. What is the value of spam[int(int('3' * 2) / 11)]?"
   ]
  },
  {
   "cell_type": "code",
   "execution_count": 4,
   "id": "0f5e5f2c",
   "metadata": {},
   "outputs": [
    {
     "name": "stdout",
     "output_type": "stream",
     "text": [
      "d\n"
     ]
    }
   ],
   "source": [
    "spam = ['a','b','c','d']\n",
    "print(spam[int(int('3' * 2) / 11)])"
   ]
  },
  {
   "cell_type": "markdown",
   "id": "aec0805e",
   "metadata": {},
   "source": [
    " The value of spam[int(int('3' * 2) / 11)] is 'd'."
   ]
  },
  {
   "cell_type": "markdown",
   "id": "6e0d9a29",
   "metadata": {},
   "source": [
    "Q4. What is the value of spam[-1]?"
   ]
  },
  {
   "cell_type": "code",
   "execution_count": 5,
   "id": "4f570632",
   "metadata": {},
   "outputs": [
    {
     "data": {
      "text/plain": [
       "'d'"
      ]
     },
     "execution_count": 5,
     "metadata": {},
     "output_type": "execute_result"
    }
   ],
   "source": [
    "spam[-1]"
   ]
  },
  {
   "cell_type": "markdown",
   "id": "e260b0ad",
   "metadata": {},
   "source": [
    "spam[-1] will give the last element of the list, which is 'd'."
   ]
  },
  {
   "cell_type": "markdown",
   "id": "b30e9526",
   "metadata": {},
   "source": [
    "Q5. What is the value of spam[:2]?"
   ]
  },
  {
   "cell_type": "code",
   "execution_count": 6,
   "id": "fe7780fc",
   "metadata": {},
   "outputs": [
    {
     "data": {
      "text/plain": [
       "['a', 'b']"
      ]
     },
     "execution_count": 6,
     "metadata": {},
     "output_type": "execute_result"
    }
   ],
   "source": [
    "spam[:2]"
   ]
  },
  {
   "cell_type": "markdown",
   "id": "d946c0be",
   "metadata": {},
   "source": [
    "spam[:2] would return ['a', 'b']"
   ]
  },
  {
   "cell_type": "markdown",
   "id": "9971254f",
   "metadata": {},
   "source": [
    "- Let's pretend bacon has the list [3.14, 'cat', 11, 'cat', True] for the next three questions.\n",
    "\n",
    "Q6. What is the value of bacon.index('cat')?"
   ]
  },
  {
   "cell_type": "code",
   "execution_count": 12,
   "id": "ab52abc5",
   "metadata": {},
   "outputs": [
    {
     "data": {
      "text/plain": [
       "1"
      ]
     },
     "execution_count": 12,
     "metadata": {},
     "output_type": "execute_result"
    }
   ],
   "source": [
    "bacon = [3.14, 'cat', 11, 'cat', True]\n",
    "bacon.index('cat')"
   ]
  },
  {
   "cell_type": "markdown",
   "id": "b94f7128",
   "metadata": {},
   "source": [
    "The value of bacon.index('cat') is 1"
   ]
  },
  {
   "cell_type": "markdown",
   "id": "fa29f4cd",
   "metadata": {},
   "source": [
    "Q7. How does bacon.append(99) change the look of the list value in bacon?"
   ]
  },
  {
   "cell_type": "code",
   "execution_count": 14,
   "id": "ea822e3a",
   "metadata": {},
   "outputs": [
    {
     "data": {
      "text/plain": [
       "[3.14, 'cat', 11, 'cat', True, 99]"
      ]
     },
     "execution_count": 14,
     "metadata": {},
     "output_type": "execute_result"
    }
   ],
   "source": [
    "bacon.append(99)\n",
    "bacon"
   ]
  },
  {
   "cell_type": "markdown",
   "id": "fc883bd7",
   "metadata": {},
   "source": [
    "The append() method adds the argument passed to it as a new element at the end of the list. Therefore, bacon.append(99) will add the integer 99 to the end of the list. The new list will look like [3.14, 'cat', 11, 'cat', True, 99]."
   ]
  },
  {
   "cell_type": "markdown",
   "id": "53b0312b",
   "metadata": {},
   "source": [
    "Q8. How does bacon.remove('cat') change the look of the list in bacon?"
   ]
  },
  {
   "cell_type": "code",
   "execution_count": 16,
   "id": "8bccac24",
   "metadata": {},
   "outputs": [
    {
     "data": {
      "text/plain": [
       "[3.14, 11, 'cat', True, 99]"
      ]
     },
     "execution_count": 16,
     "metadata": {},
     "output_type": "execute_result"
    }
   ],
   "source": [
    "bacon.remove('cat')\n",
    "bacon"
   ]
  },
  {
   "cell_type": "markdown",
   "id": "99651aec",
   "metadata": {},
   "source": [
    "The bacon.remove('cat') method removes the first occurrence of the string 'cat' from the list bacon.\n",
    "\n",
    "If bacon contains the list [3.14, 'cat', 11, 'cat', True] before the call to remove(), then after the call, bacon will contain the list [3.14, 11, 'cat', True], with only the first occurrence of 'cat' removed."
   ]
  },
  {
   "cell_type": "markdown",
   "id": "0129b1a5",
   "metadata": {},
   "source": [
    "Q9. What are the list concatenation and list replication operators?\n",
    "\n",
    "Ans: The list concatenation operator is the plus sign (+), which combines two or more lists and returns a new list containing all the elements from the original lists.\n",
    "\n",
    "The list replication operator is the asterisk (*) which replicates a list a given number of times and returns a new list."
   ]
  },
  {
   "cell_type": "markdown",
   "id": "418a4351",
   "metadata": {},
   "source": [
    "Q10. What is difference between the list methods append() and insert()?\n",
    "\n",
    "Ans: The append() and insert() are methods used to add elements to a list, but they differ in the way that new elements are added:\n",
    "\n",
    "- append() adds an element to the end of the list.\n",
    "- insert() inserts an element at a specified index in the list, moving the existing elements to the right."
   ]
  },
  {
   "cell_type": "markdown",
   "id": "e5898bd3",
   "metadata": {},
   "source": [
    "Q11. What are the two methods for removing items from a list?\n",
    "\n",
    "Ans: The two methods for removing items from a list are:\n",
    "\n",
    "1. remove() method: This method removes the first occurrence of the specified element in the list. If the element is not found, it raises a ValueError. \n",
    "\n",
    "2. pop() method: This method removes the item at the specified index and returns the removed item. If no index is specified, it removes and returns the last item in the list. \n"
   ]
  },
  {
   "cell_type": "markdown",
   "id": "57f9e921",
   "metadata": {},
   "source": [
    "Q12. Describe how list values and string values are identical.\n",
    "\n",
    "Ans: List values and string values are similar in that they are both sequences of values that can be accessed using indexing and slicing. Both lists and strings can be concatenated using the + operator, and they can be repeated using the * operator.\n",
    "\n",
    "Furthermore, both lists and strings support the len() function to determine their length, and they can be iterated over using loops. However, there are also significant differences between lists and strings. Lists are mutable, which means they can be modified by adding, removing or changing elements, whereas strings are immutable, and their elements cannot be changed once they are created. Additionally, lists can contain values of different types, whereas strings can only contain characters."
   ]
  },
  {
   "cell_type": "markdown",
   "id": "43287909",
   "metadata": {},
   "source": [
    "Q13. What's the difference between tuples and lists?\n",
    "\n",
    "Ans: Both lists and tuples are used to store collections of items. However, there are some key differences between the two:\n",
    "\n",
    "1. Mutability: Lists are mutable, meaning their contents can be changed after creation, whereas tuples are immutable, meaning their contents cannot be changed after creation.\n",
    "\n",
    "2. Syntax: Lists are defined using square brackets [], while tuples are defined using parentheses ().\n",
    "\n",
    "3. Usage: Lists are generally used to store collections of related items that may need to be modified, while tuples are typically used to store related items that should not be modified.\n",
    "\n",
    "4. Operations: Because of their mutability, lists support more operations than tuples, including methods like append(), extend(), insert(), remove(), and pop(). Tuples, on the other hand, support fewer operations, but are generally faster and more memory-efficient than lists."
   ]
  },
  {
   "cell_type": "markdown",
   "id": "d77e5272",
   "metadata": {},
   "source": [
    "Q14. How do you type a tuple value that only contains the integer 42?\n",
    "\n",
    "Ans: To create a tuple value that only contains the integer 42, you can use parentheses to enclose the integer value like this:"
   ]
  },
  {
   "cell_type": "code",
   "execution_count": 22,
   "id": "cad55e11",
   "metadata": {},
   "outputs": [
    {
     "name": "stdout",
     "output_type": "stream",
     "text": [
      "<class 'tuple'>   (42,)\n"
     ]
    }
   ],
   "source": [
    "my_tuple = (42,)\n",
    "print(type(my_tuple),\" \", my_tuple)"
   ]
  },
  {
   "cell_type": "markdown",
   "id": "62f71e93",
   "metadata": {},
   "source": [
    "Note the comma at the end. This is necessary to distinguish a tuple from an expression enclosed in parentheses."
   ]
  },
  {
   "cell_type": "markdown",
   "id": "4874dec7",
   "metadata": {},
   "source": [
    "Q15. How do you get a list value's tuple form? How do you get a tuple value's list form?\n",
    "\n",
    "Ans: "
   ]
  },
  {
   "cell_type": "code",
   "execution_count": 25,
   "id": "c7602e06",
   "metadata": {},
   "outputs": [
    {
     "data": {
      "text/plain": [
       "(1, 2, 3, 4)"
      ]
     },
     "execution_count": 25,
     "metadata": {},
     "output_type": "execute_result"
    }
   ],
   "source": [
    "\"\"\"To get a list value's tuple form, you can use the tuple() \n",
    "function and pass the list as an argument. For example:\"\"\"\n",
    "\n",
    "my_list = [1,2,3,4]\n",
    "tuple_var = tuple(my_list)\n",
    "tuple_var"
   ]
  },
  {
   "cell_type": "code",
   "execution_count": 26,
   "id": "6ab0f406",
   "metadata": {},
   "outputs": [
    {
     "data": {
      "text/plain": [
       "[1, 2, 3, 4]"
      ]
     },
     "execution_count": 26,
     "metadata": {},
     "output_type": "execute_result"
    }
   ],
   "source": [
    "\"\"\"To get a list value's tuple form, you can use the tuple() \n",
    "function and pass the list as an argument. For example:\"\"\"\n",
    "\n",
    "my_tuple = (1,2,3,4)\n",
    "list_var = list(my_tuple)\n",
    "list_var"
   ]
  },
  {
   "cell_type": "markdown",
   "id": "523420dd",
   "metadata": {},
   "source": [
    "Q16. Variables that \"contain\" list values are not necessarily lists themselves. Instead, what do they\n",
    "contain?\n",
    "\n",
    "Ans: Variables that \"contain\" list values are actually references to the list objects in memory. When a variable is assigned a list, it actually stores a reference to the memory location where the list is stored. This reference allows the program to access and modify the list values using the variable."
   ]
  },
  {
   "cell_type": "markdown",
   "id": "bbb6e189",
   "metadata": {},
   "source": [
    "Q17. How do you distinguish between copy.copy() and copy.deepcopy()?\n",
    "\n",
    "Ans: The copy module provides two methods for creating copies of objects: copy() and deepcopy(). The main difference between copy() and deepcopy() is the level of copying that is performed.\n",
    "\n",
    "- copy() creates a shallow copy of an object. A shallow copy is a new object that is created, and it contains references to the same objects as the original. This means that any changes made to the original object will also be reflected in the shallow copy.\n",
    "\n",
    "- deepcopy() creates a deep copy of an object. A deep copy is a new object that is created, and it contains copies of all the objects in the original. This means that any changes made to the original object will not be reflected in the deep copy."
   ]
  },
  {
   "cell_type": "code",
   "execution_count": null,
   "id": "78c7ccb2",
   "metadata": {},
   "outputs": [],
   "source": []
  }
 ],
 "metadata": {
  "kernelspec": {
   "display_name": "Python 3 (ipykernel)",
   "language": "python",
   "name": "python3"
  },
  "language_info": {
   "codemirror_mode": {
    "name": "ipython",
    "version": 3
   },
   "file_extension": ".py",
   "mimetype": "text/x-python",
   "name": "python",
   "nbconvert_exporter": "python",
   "pygments_lexer": "ipython3",
   "version": "3.9.13"
  }
 },
 "nbformat": 4,
 "nbformat_minor": 5
}
