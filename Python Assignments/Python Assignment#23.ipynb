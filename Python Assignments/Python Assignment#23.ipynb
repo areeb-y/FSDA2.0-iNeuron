{
 "cells": [
  {
   "cell_type": "markdown",
   "id": "95d7cf71",
   "metadata": {},
   "source": [
    "# Assignment 23"
   ]
  },
  {
   "cell_type": "markdown",
   "id": "7b4e7121",
   "metadata": {},
   "source": [
    "Q1.  What is the result of the code, and why?\n",
    "\n",
    ">>> def func(a, b=6, c=8):\n",
    "\n",
    "        print(a, b, c)\n",
    "\n",
    ">>> func(1, 2)\n",
    "\n",
    "Ans:"
   ]
  },
  {
   "cell_type": "code",
   "execution_count": 1,
   "id": "91a7135f",
   "metadata": {},
   "outputs": [
    {
     "name": "stdout",
     "output_type": "stream",
     "text": [
      "1 2 8\n"
     ]
    }
   ],
   "source": [
    "def func(a, b=6, c=8):\n",
    "    print(a,b,c)\n",
    "func(1,2)"
   ]
  },
  {
   "cell_type": "markdown",
   "id": "2e8323b6",
   "metadata": {},
   "source": [
    "The code will print 1 2 8.\n",
    "\n",
    "Here's the explanation:\n",
    "\n",
    "The func() function is defined with three parameters: a, b, and c. The default values for b and c are set to 6 and 8, respectively.\n",
    "\n",
    "When func(1, 2) is called, the argument 1 is passed for a and 2 is passed for b. Since c is not provided as an argument, it takes its default value of 8.\n",
    "\n",
    "Inside the function, the print(a, b, c) statement prints the values of a, b, and c.\n",
    "\n",
    "Therefore, the output will be 1 2 8, as a is 1, b is 2, and c is 8"
   ]
  },
  {
   "cell_type": "markdown",
   "id": "d48b44de",
   "metadata": {},
   "source": [
    "Q2.What is the result of this code, and why?\n",
    "\n",
    ">>> def func(a, b, c=5):\n",
    "\n",
    "print(a, b, c)\n",
    "\n",
    ">>> func(1, c=3, b=2)\n",
    "\n",
    "Ans:"
   ]
  },
  {
   "cell_type": "code",
   "execution_count": 2,
   "id": "2a7bd862",
   "metadata": {},
   "outputs": [
    {
     "name": "stdout",
     "output_type": "stream",
     "text": [
      "1 2 3\n"
     ]
    }
   ],
   "source": [
    "def func(a,b,c=5):\n",
    "    print(a,b,c)\n",
    "func(1,c=3,b=2)"
   ]
  },
  {
   "cell_type": "markdown",
   "id": "7f2d3f6a",
   "metadata": {},
   "source": [
    "The code will print 1 2 3.\n",
    "\n",
    "Here's the explanation:\n",
    "\n",
    "The func() function is defined with three parameters: a, b, and c. The default value for c is set to 5.\n",
    "\n",
    "When func(1, c=3, b=2) is called, the argument 1 is passed for a, 3 is passed for c, and 2 is passed for b.\n",
    "\n",
    "Since the arguments are explicitly passed with their parameter names, the order in which they are passed doesn't matter.\n",
    "\n",
    "Inside the function, the print(a, b, c) statement prints the values of a, b, and c.\n",
    "\n",
    "Therefore, the output will be 1 2 3, as a is 1, b is 2, and c is 3."
   ]
  },
  {
   "cell_type": "markdown",
   "id": "92649b4b",
   "metadata": {},
   "source": [
    "Q3.How about this code: what is its result, and why?\n",
    "\n",
    ">>> def func(a, *pargs):\n",
    "\n",
    "print(a, pargs)\n",
    "\n",
    ">>> func(1, 2, 3)\n",
    "\n",
    "Ans:"
   ]
  },
  {
   "cell_type": "code",
   "execution_count": 3,
   "id": "919e7df1",
   "metadata": {},
   "outputs": [
    {
     "name": "stdout",
     "output_type": "stream",
     "text": [
      "1 (2, 3)\n"
     ]
    }
   ],
   "source": [
    "def func(a,*pargs):\n",
    "    print(a, pargs)\n",
    "func(1,2,3)"
   ]
  },
  {
   "cell_type": "markdown",
   "id": "1348b19b",
   "metadata": {},
   "source": [
    "The code will print 1 (2, 3).\n",
    "\n",
    "Here's the explanation:\n",
    "\n",
    "The func() function is defined with a parameter a and *pargs which is used to collect any additional positional arguments as a tuple.\n",
    "\n",
    "When func(1, 2, 3) is called, 1 is passed for a, and 2 and 3 are additional positional arguments.\n",
    "\n",
    "Inside the function, the print(a, pargs) statement prints the value of a and the tuple pargs.\n",
    "\n",
    "Therefore, the output will be 1 (2, 3), as a is 1 and pargs is a tuple containing (2, 3)."
   ]
  },
  {
   "cell_type": "markdown",
   "id": "b6ce689b",
   "metadata": {},
   "source": [
    "Q4.What does this code print, and why?\n",
    "\n",
    ">>> def func(a, **kargs):\n",
    "\n",
    "print(a, kargs)\n",
    "\n",
    ">>> func(a=1, c=3, b=2)\n",
    "\n",
    "Ans:"
   ]
  },
  {
   "cell_type": "code",
   "execution_count": 4,
   "id": "fc03e07a",
   "metadata": {},
   "outputs": [
    {
     "name": "stdout",
     "output_type": "stream",
     "text": [
      "1 {'c': 3, 'b': 2}\n"
     ]
    }
   ],
   "source": [
    "def func(a, **kargs):\n",
    "    print(a,kargs)\n",
    "func(a=1,c=3,b=2)   "
   ]
  },
  {
   "cell_type": "markdown",
   "id": "c5a7d30a",
   "metadata": {},
   "source": [
    "The code will print 1 {'c': 3, 'b': 2}.\n",
    "\n",
    "Here's the explanation:\n",
    "\n",
    "The func() function is defined with a parameter a and ** kargs which is used to collect any additional keyword arguments as a dictionary.\n",
    "\n",
    "When func(a=1, c=3, b=2) is called, a=1 is passed as a keyword argument, and c=3 and b=2 are additional keyword arguments.\n",
    "\n",
    "Inside the function, the print(a, kargs) statement prints the value of a and the dictionary kargs.\n",
    "\n",
    "Therefore, the output will be 1 {'c': 3, 'b': 2}, as a is 1 and kargs is a dictionary containing {'c': 3, 'b': 2}."
   ]
  },
  {
   "cell_type": "markdown",
   "id": "5e892052",
   "metadata": {},
   "source": [
    "Q5.What gets printed by this, and explain?\n",
    "\n",
    ">>> def func(a, b, c=8, d=5): print(a, b, c, d)\n",
    "\n",
    ">>> func(1, *(5, 6))\n",
    "\n",
    "Ans:"
   ]
  },
  {
   "cell_type": "code",
   "execution_count": 5,
   "id": "529a3c45",
   "metadata": {},
   "outputs": [
    {
     "name": "stdout",
     "output_type": "stream",
     "text": [
      "1 5 6 5\n"
     ]
    }
   ],
   "source": [
    "def func(a,b,c=8,d=5): print(a,b,c,d)\n",
    "func(1,*(5,6))"
   ]
  },
  {
   "cell_type": "markdown",
   "id": "b6f41041",
   "metadata": {},
   "source": [
    "The code will print 1 5 6 5.\n",
    "\n",
    "Here's the explanation:\n",
    "\n",
    "The func() function is defined with four parameters: a, b, c, and d, where c has a default value of 8 and d has a default value of 5.\n",
    "\n",
    "When func(1, *(5, 6)) is called, 1 is passed as the value for a, and *(5, 6) unpacks the tuple (5, 6) into separate arguments, which are assigned to b and c.\n",
    "\n",
    "Since no value is provided for d, it takes its default value of 5.\n",
    "\n",
    "Therefore, the output will be 1 5 6 5, as a is 1, b is 5, c is 6, and d is 5."
   ]
  },
  {
   "cell_type": "markdown",
   "id": "010d05ca",
   "metadata": {},
   "source": [
    "Q6.what is the result of this, and explain?\n",
    "\n",
    ">>> def func(a, b, c): a = 2; b[0] = 'x'; c['a'] = 'y'\n",
    "\n",
    ">>> l=1; m=[1]; n={'a':0}\n",
    "\n",
    ">>> func(l, m, n)\n",
    "\n",
    ">>> l, m, n\n",
    "\n",
    "Ans:"
   ]
  },
  {
   "cell_type": "code",
   "execution_count": 7,
   "id": "eaba0dcd",
   "metadata": {},
   "outputs": [
    {
     "data": {
      "text/plain": [
       "(1, ['x'], {'a': 'y'})"
      ]
     },
     "execution_count": 7,
     "metadata": {},
     "output_type": "execute_result"
    }
   ],
   "source": [
    "def func(a,b,c): a=2; b[0] = 'x'; c['a'] = 'y'\n",
    "l=1;m=[1];n={'a':0}\n",
    "func(l,m,n)\n",
    "l,m,n"
   ]
  },
  {
   "cell_type": "markdown",
   "id": "1242f58d",
   "metadata": {},
   "source": [
    "The result of the code will be l = 1, m = ['x'], and n = {'a': 'y'}.\n",
    "\n",
    "Here's the explanation:\n",
    "\n",
    "The func() function takes three parameters: a, b, and c.\n",
    "\n",
    "Inside the function, the value of a is reassigned to 2, which is a local variable and does not affect the value of l outside the function.\n",
    "\n",
    "The first element of list b is modified, changing it from 1 to 'x'. Since m and b refer to the same list object, this change is reflected outside the function as well.\n",
    "\n",
    "The value of key 'a' in dictionary c is modified, changing it from 0 to 'y'. Since n and c refer to the same dictionary object, this change is also reflected outside the function.\n",
    "\n",
    "After calling func(l, m, n), the values of l, m, and n are printed, which will be 1, ['x'], and {'a': 'y'} respectively."
   ]
  },
  {
   "cell_type": "code",
   "execution_count": null,
   "id": "d0853117",
   "metadata": {},
   "outputs": [],
   "source": []
  }
 ],
 "metadata": {
  "kernelspec": {
   "display_name": "Python 3 (ipykernel)",
   "language": "python",
   "name": "python3"
  },
  "language_info": {
   "codemirror_mode": {
    "name": "ipython",
    "version": 3
   },
   "file_extension": ".py",
   "mimetype": "text/x-python",
   "name": "python",
   "nbconvert_exporter": "python",
   "pygments_lexer": "ipython3",
   "version": "3.9.13"
  }
 },
 "nbformat": 4,
 "nbformat_minor": 5
}
