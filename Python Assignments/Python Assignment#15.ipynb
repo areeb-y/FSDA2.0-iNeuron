{
 "cells": [
  {
   "cell_type": "markdown",
   "id": "4b5f90d6",
   "metadata": {},
   "source": [
    "# Assignment 15"
   ]
  },
  {
   "cell_type": "markdown",
   "id": "9b8b7e3c",
   "metadata": {},
   "source": [
    "Q1.How many seconds are in an hour? Use the interactive interpreter as a calculator and multiply the\n",
    "number of seconds in a minute (60) by the number of minutes in an hour (also 60).\n",
    "\n",
    "Ans: To calculate the number of seconds in an hour, you can multiply the number of seconds in a minute (60) by the number of minutes in an hour (60) using the interactive interpreter as a calculator."
   ]
  },
  {
   "cell_type": "code",
   "execution_count": 1,
   "id": "ddf728eb",
   "metadata": {},
   "outputs": [
    {
     "name": "stdout",
     "output_type": "stream",
     "text": [
      "3600\n"
     ]
    }
   ],
   "source": [
    "# Here's the calculation:\n",
    "\n",
    "seconds_in_minute = 60\n",
    "minutes_in_hour = 60\n",
    "\n",
    "seconds_in_hour = seconds_in_minute * minutes_in_hour\n",
    "print(seconds_in_hour)"
   ]
  },
  {
   "cell_type": "markdown",
   "id": "4a92e161",
   "metadata": {},
   "source": [
    "- There are 3600 seconds in an hour."
   ]
  },
  {
   "cell_type": "markdown",
   "id": "ec882ae5",
   "metadata": {},
   "source": [
    "Q2. Assign the result from the previous task (seconds in an hour) to a variable called\n",
    "seconds_per_hour.\n",
    "\n",
    "Ans:"
   ]
  },
  {
   "cell_type": "code",
   "execution_count": 3,
   "id": "1efaa604",
   "metadata": {},
   "outputs": [
    {
     "name": "stdout",
     "output_type": "stream",
     "text": [
      "3600\n"
     ]
    }
   ],
   "source": [
    "seconds_in_minute = 60\n",
    "minutes_in_hour = 60\n",
    "\n",
    "seconds_per_hour = seconds_in_minute * minutes_in_hour\n",
    "print(seconds_in_hour)"
   ]
  },
  {
   "cell_type": "markdown",
   "id": "cbedecce",
   "metadata": {},
   "source": [
    "- The variable seconds_per_hour now holds the value 3600"
   ]
  },
  {
   "cell_type": "markdown",
   "id": "40edf0dd",
   "metadata": {},
   "source": [
    "Q3. How many seconds do you think there are in a day? Make use of the variables seconds per hour\n",
    "and minutes per hour.\n",
    "\n",
    "Ans: To calculate the number of seconds in a day, we need to multiply the number of seconds per hour by the number of hours in a day. Since there are 24 hours in a day, we can use the seconds_per_hour variable calculated earlier and multiply it by 24."
   ]
  },
  {
   "cell_type": "code",
   "execution_count": 4,
   "id": "57c275ba",
   "metadata": {},
   "outputs": [
    {
     "name": "stdout",
     "output_type": "stream",
     "text": [
      "86400\n"
     ]
    }
   ],
   "source": [
    "hours_in_day = 24\n",
    "seconds_per_day = seconds_per_hour * hours_in_day\n",
    "print(seconds_per_day)"
   ]
  },
  {
   "cell_type": "markdown",
   "id": "7d7321e7",
   "metadata": {},
   "source": [
    "- There are 86,400 seconds in a day."
   ]
  },
  {
   "cell_type": "markdown",
   "id": "006b222e",
   "metadata": {},
   "source": [
    "Q4. Calculate seconds per day again, but this time save the result in a variable called seconds_per_day\n",
    "\n",
    "Ans: To calculate the number of seconds in a day, we can multiply the number of seconds per hour by the number of hours in a day."
   ]
  },
  {
   "cell_type": "code",
   "execution_count": 7,
   "id": "9fc20436",
   "metadata": {},
   "outputs": [
    {
     "name": "stdout",
     "output_type": "stream",
     "text": [
      "86400\n"
     ]
    }
   ],
   "source": [
    "seconds_per_hour = 60 * 60      # 60 seconds * 60 minutes\n",
    "hours_per_day = 24\n",
    "seconds_per_day =  seconds_per_hour * hours_per_day\n",
    "print(seconds_per_day)"
   ]
  },
  {
   "cell_type": "markdown",
   "id": "d9b151a6",
   "metadata": {},
   "source": [
    "- The variable seconds_per_day contains the number of seconds in a day, which is 86,400."
   ]
  },
  {
   "cell_type": "markdown",
   "id": "4703b4fe",
   "metadata": {},
   "source": [
    "Q5. Divide seconds_per_day by seconds_per_hour. Use floating-point (/) division.\n",
    "\n",
    "Ans: To divide seconds_per_day by seconds_per_hour using floating-point division, you can simply use the / operator."
   ]
  },
  {
   "cell_type": "code",
   "execution_count": 8,
   "id": "5f0ade64",
   "metadata": {},
   "outputs": [
    {
     "name": "stdout",
     "output_type": "stream",
     "text": [
      "24.0\n"
     ]
    }
   ],
   "source": [
    "seconds_per_day = 86400\n",
    "seconds_per_hour = 3600\n",
    "\n",
    "result = seconds_per_day / seconds_per_hour\n",
    "print(result)"
   ]
  },
  {
   "cell_type": "markdown",
   "id": "2c41d541",
   "metadata": {},
   "source": [
    "- The variable result will contain the value 24.0, indicating that there are 24 hours in a day."
   ]
  },
  {
   "cell_type": "markdown",
   "id": "c3722298",
   "metadata": {},
   "source": [
    "Q6. Divide seconds_per_day by seconds_per_hour, using integer (//) division. Did this number agree\n",
    "with the floating-point value from the previous question, aside from the final .0?\n",
    "\n",
    "Ans: To divide seconds_per_day by seconds_per_hour using integer division (// operator),"
   ]
  },
  {
   "cell_type": "code",
   "execution_count": 9,
   "id": "2f2e2d71",
   "metadata": {},
   "outputs": [
    {
     "name": "stdout",
     "output_type": "stream",
     "text": [
      "24\n"
     ]
    }
   ],
   "source": [
    "seconds_per_day = 86400\n",
    "seconds_per_hour = 3600\n",
    "\n",
    "result = seconds_per_day // seconds_per_hour\n",
    "print(result)"
   ]
  },
  {
   "cell_type": "markdown",
   "id": "7d4fd29a",
   "metadata": {},
   "source": [
    "- The variable result will contain the value 24, which is the integer result of the division. "
   ]
  },
  {
   "cell_type": "markdown",
   "id": "cf65cad2",
   "metadata": {},
   "source": [
    "Q7. Write a generator, genPrimes, that returns the sequence of prime numbers on successive calls to\n",
    "its next() method: 2, 3, 5, 7, 11, ...\n",
    "    \n",
    "Ans: Here's an implementation of the genPrimes generator that returns the sequence of prime numbers:"
   ]
  },
  {
   "cell_type": "code",
   "execution_count": 13,
   "id": "d06a16aa",
   "metadata": {},
   "outputs": [
    {
     "name": "stdout",
     "output_type": "stream",
     "text": [
      "2\n",
      "3\n",
      "5\n",
      "7\n",
      "11\n",
      "13\n"
     ]
    }
   ],
   "source": [
    "def genPrimes():\n",
    "    primes = []\n",
    "    num = 2\n",
    "    \n",
    "    while True:\n",
    "        if all(num % prime != 0 for prime in primes):\n",
    "            primes.append(num)\n",
    "            yield num\n",
    "        num+=1\n",
    "prime_generator = genPrimes()\n",
    "\n",
    "# Get the first 5 prime numbers\n",
    "\n",
    "print(next(prime_generator)) #2\n",
    "print(next(prime_generator)) #3\n",
    "print(next(prime_generator)) #5\n",
    "print(next(prime_generator)) #7\n",
    "print(next(prime_generator)) #11\n",
    "\n",
    "# print next prime number\n",
    "print(next(prime_generator)) #13"
   ]
  },
  {
   "cell_type": "code",
   "execution_count": null,
   "id": "cce6a561",
   "metadata": {},
   "outputs": [],
   "source": []
  }
 ],
 "metadata": {
  "kernelspec": {
   "display_name": "Python 3 (ipykernel)",
   "language": "python",
   "name": "python3"
  },
  "language_info": {
   "codemirror_mode": {
    "name": "ipython",
    "version": 3
   },
   "file_extension": ".py",
   "mimetype": "text/x-python",
   "name": "python",
   "nbconvert_exporter": "python",
   "pygments_lexer": "ipython3",
   "version": "3.9.13"
  }
 },
 "nbformat": 4,
 "nbformat_minor": 5
}
