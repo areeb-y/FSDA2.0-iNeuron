{
 "cells": [
  {
   "cell_type": "markdown",
   "id": "d786d599",
   "metadata": {},
   "source": [
    "## Assignment - 3 "
   ]
  },
  {
   "cell_type": "markdown",
   "id": "e7470ecd",
   "metadata": {},
   "source": [
    "Q1. Why are functions advantageous to have in your programs?\n",
    "\n",
    "Ans: Functions are advantageous to have in programs for several reasons:\n",
    "\n",
    "1. Reusability: Functions allow you to write a piece of code once and then use it multiple times throughout your program, which saves time and makes the code easier to maintain.\n",
    "\n",
    "2. Modularity: Functions break down large programs into smaller, more manageable chunks. This makes it easier to organize the code and debug errors.\n",
    "\n",
    "3. Abstraction: Functions allow you to abstract away the details of how a piece of code works. Instead of needing to understand how the code works, you can just call the function and trust that it will do what it's supposed to do.\n",
    "\n",
    "4. Encapsulation: Functions can encapsulate complex logic or functionality, which makes it easier to reuse that code in other programs or share it with other developers.\n",
    "\n",
    "Overall, functions help make programs more efficient, easier to read and understand, and easier to maintain and modify."
   ]
  },
  {
   "cell_type": "markdown",
   "id": "ac005e53",
   "metadata": {},
   "source": [
    "Q2. When does the code in a function run: when it's specified or when it's called?\n",
    "\n",
    "Ans: The code in a function runs when the function is called, not when it is specified."
   ]
  },
  {
   "cell_type": "markdown",
   "id": "695c9b69",
   "metadata": {},
   "source": [
    "Q3. What statement creates a function?\n",
    "\n",
    "Ans: The 'def' statement is used to create a function in Python."
   ]
  },
  {
   "cell_type": "markdown",
   "id": "bdb49c36",
   "metadata": {},
   "source": [
    "Q4. What is the difference between a function and a function call?\n",
    "\n",
    "Ans: A function is a block of reusable code that performs a specific task when called, whereas a function call is the process of calling that function to execute its code.\n"
   ]
  },
  {
   "cell_type": "markdown",
   "id": "60c8e49e",
   "metadata": {},
   "source": [
    "Q5. How many global scopes are there in a Python program? How many local scopes?\n",
    "\n",
    "Ans: There is one global scopes, which is created when the program starts running.\n",
    "\n",
    "There can be multiple local scopes, which are created whenever a function is called. Each function call creates a new local scope, and the variables defined within that scope are only accessible within that function or any nested functions within it.\n",
    "\n",
    "It's worth noting that Python also has built-in namespaces, such as the namespace for built-in functions like print(), and the namespace for modules and their functions and variables. These namespaces are separate from the global and local scopes.\n"
   ]
  },
  {
   "cell_type": "markdown",
   "id": "cf99693e",
   "metadata": {},
   "source": [
    "Q6. What happens to variables in a local scope when the function call returns?\n",
    "\n",
    "Ans: When a function call returns, the local scope is destroyed, and all the variables in the local scope are forgotten. Any value assigned to a local variable inside the function is lost after the function returns. If we try to access a local variable after the function call has returned, we will get a NameError because the variable no longer exists. The values of the global variables do not change, even if they are accessed or modified inside a function."
   ]
  },
  {
   "cell_type": "markdown",
   "id": "6b75d1be",
   "metadata": {},
   "source": [
    "Q7. What is the concept of a return value? Is it possible to have a return value in an expression?\n",
    "\n",
    "Ans: A return value is the value that a function call evaluates to and returns to the calling code. A function can return a value using the return statement. The returned value can be of any data type - integer, float, string, list, tuple, dictionary, etc. \n",
    "\n",
    "Yes, it is possible to have a return value in an expression."
   ]
  },
  {
   "cell_type": "markdown",
   "id": "5eb5805b",
   "metadata": {},
   "source": [
    "Q8. If a function does not have a return statement, what is the return value of a call to that function?  \n",
    "\n",
    "Ans: If a function does not have a return statement, the return value of a call to that function will be 'None'."
   ]
  },
  {
   "cell_type": "markdown",
   "id": "4ac5eb4f",
   "metadata": {},
   "source": [
    "Q9. How do you make a function variable refer to the global variable? \n",
    "\n",
    "Ans: To make a function variable refer to the global variable with the same name, you need to use the global keyword inside the function. This tells Python that you want to use the global variable instead of creating a new local variable with the same name. "
   ]
  },
  {
   "cell_type": "code",
   "execution_count": 1,
   "id": "772e936c",
   "metadata": {},
   "outputs": [
    {
     "name": "stdout",
     "output_type": "stream",
     "text": [
      "99\n"
     ]
    }
   ],
   "source": [
    "# Here's an example:\n",
    "global_var = 42\n",
    "def eggs():\n",
    "    global global_var\n",
    "    global_var = 99\n",
    "    \n",
    "eggs()\n",
    "print(global_var)"
   ]
  },
  {
   "cell_type": "markdown",
   "id": "79dbba75",
   "metadata": {},
   "source": [
    "Q10. What is the data type of None?\n",
    "\n",
    "Ans: The data type of 'None' is 'NoneType'"
   ]
  },
  {
   "cell_type": "markdown",
   "id": "88fbb443",
   "metadata": {},
   "source": [
    "Q11. What does the sentence import areallyourpetsnamederic do?\n",
    "\n",
    "Ans: The sentence import areallyourpetsnamederic tries to import a module named \"areallyourpetsnamederic\". If such a module exists in any of the directories specified in the Python path, it will be imported. If no such module exists, a ModuleNotFoundError will be raised."
   ]
  },
  {
   "cell_type": "markdown",
   "id": "0e0c5724",
   "metadata": {},
   "source": [
    "Q12. If you had a bacon() feature in a spam module, what would you call it after importing spam?\n",
    "\n",
    "Ans: If you call the 'bacon()' function from the 'spam' module after importing the module using the following syntax:\n",
    "\n",
    "import spam\n",
    "\n",
    "spam.bacon()"
   ]
  },
  {
   "cell_type": "markdown",
   "id": "fa3b35e0",
   "metadata": {},
   "source": [
    "Q13. What can you do to save a programme from crashing if it encounters an error?\n",
    "\n",
    "Ans: To save a program from crashing if it encounters an error, you can use exception handling. This involves wrapping the code that might raise an exception in a try block and then handling any exceptions that are raised in the corresponding except block. By using exception handling, you can gracefully handle errors and prevent the program from crashing."
   ]
  },
  {
   "cell_type": "markdown",
   "id": "7644f6f7",
   "metadata": {},
   "source": [
    "Q14. What is the purpose of the try clause? What is the purpose of the except clause? \n",
    "\n",
    "Ans: The 'try' and 'except' clauses are used for error handling. The purpose of the 'try' clause is to identify a block of code in which an error can occur. If an error occurs in the 'try' block, Python will look for the corresponding 'except'' block to handle the error.\n",
    "\n",
    "The purpose of the 'except' clause is to provide a block of code that will be executed if an error occurs in the 'try' block. The 'except' block must specify the type of error that it will handle. When an error occurs in the 'try' block, Python will check the 'except' blocks to see if any of them can handle the error. If an 'excpet' block can handle the error, its code will be executed. If no 'except' block can handle the error, the program will terminate and an error message will be displayed."
   ]
  }
 ],
 "metadata": {
  "kernelspec": {
   "display_name": "Python 3 (ipykernel)",
   "language": "python",
   "name": "python3"
  },
  "language_info": {
   "codemirror_mode": {
    "name": "ipython",
    "version": 3
   },
   "file_extension": ".py",
   "mimetype": "text/x-python",
   "name": "python",
   "nbconvert_exporter": "python",
   "pygments_lexer": "ipython3",
   "version": "3.9.13"
  }
 },
 "nbformat": 4,
 "nbformat_minor": 5
}
