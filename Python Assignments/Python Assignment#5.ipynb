{
 "cells": [
  {
   "cell_type": "markdown",
   "id": "979a215e",
   "metadata": {},
   "source": [
    "## Assignment - 5 "
   ]
  },
  {
   "cell_type": "markdown",
   "id": "d046f20d",
   "metadata": {},
   "source": [
    "Q1. What does an empty dictionary's code look like?\n",
    "\n",
    "Ans: An empty dictionary's code looks like this:'{}'. "
   ]
  },
  {
   "cell_type": "markdown",
   "id": "9d0c9628",
   "metadata": {},
   "source": [
    "Q2. What is the value of a dictionary value with the key 'foo'; and the value 42?\n",
    "\n",
    "Ans: The value of a dictionary value with the key 'foo' and the value 42 can be represented as follows in Python:"
   ]
  },
  {
   "cell_type": "code",
   "execution_count": 1,
   "id": "914182d6",
   "metadata": {},
   "outputs": [
    {
     "data": {
      "text/plain": [
       "{'foo': 42}"
      ]
     },
     "execution_count": 1,
     "metadata": {},
     "output_type": "execute_result"
    }
   ],
   "source": [
    "{'foo': 42}"
   ]
  },
  {
   "cell_type": "markdown",
   "id": "359e68a5",
   "metadata": {},
   "source": [
    "Q3. What is the most significant distinction between a dictionary and a list?\n",
    "\n",
    "Ans: The most significant distinction between a dictionary and a list is the way they store and retrieve data. A list stores data in a specific order and can be accessed by its index, which is an integer value starting from zero. On the other hand, a dictionary stores data as key-value pairs and can be accessed by its key. Each key in a dictionary maps to a corresponding value, and these key-value pairs are not stored in any particular order."
   ]
  },
  {
   "cell_type": "markdown",
   "id": "6be32b05",
   "metadata": {},
   "source": [
    "Q4. What happens if you try to access spam['foo'] if spam is {'bar': 100}?\n",
    "\n",
    "Ans: If you try to access spam['foo'] when spam is {'bar': 100}, you will get a KeyError because the key 'foo' does not exist in the dictionary."
   ]
  },
  {
   "cell_type": "markdown",
   "id": "55699fa0",
   "metadata": {},
   "source": [
    "Q5. If a dictionary is stored in spam, what is the difference between the expressions \n",
    "\n",
    "'cat' in spam and\n",
    "\n",
    "'cat' in spam.keys()?\n",
    "\n",
    "Ans: Both cat in spam and cat in spam.keys() will check if the string 'cat' is a key in the dictionary spam.\n",
    "\n",
    "The expression 'cat' in spam checks if 'cat' is a key in the dictionary spam. If 'cat' is a key in the dictionary, it returns True, otherwise it returns False.\n",
    "\n",
    "The expression 'cat' in spam.keys() first calls the keys() method on the dictionary spam to get a list of all the keys in the dictionary, and then checks if 'cat' is in that list. If 'cat' is a key in the dictionary, it returns True, otherwise it returns False.\n",
    "\n",
    "So, both expressions will give the same result, but the second expression is less efficient because it creates a list of all the keys in the dictionary before checking if 'cat' is in it. The first expression is more efficient because it checks directly if 'cat' is a key in the dictionary without creating an intermediate list."
   ]
  },
  {
   "cell_type": "markdown",
   "id": "c71cfb71",
   "metadata": {},
   "source": [
    "Q6. If a dictionary is stored in spam, what is the difference between the expressions\n",
    "\n",
    "'cat' in spam and\n",
    "\n",
    "'cat' in spam.values()?\n",
    "\n",
    "Ans: The expression 'cat' in spam checks if 'cat' is a key in the dictionary spam, while the expression 'cat' in spam.values() checks if 'cat' is a value in the dictionary spam."
   ]
  },
  {
   "cell_type": "markdown",
   "id": "07f53ca7",
   "metadata": {},
   "source": [
    "Q7. What is a shortcut for the following code?\n",
    "\n",
    "if 'color' not in spam:\n",
    "\n",
    "spam['color'] = 'black'\n",
    "\n",
    "Ans: The following code is a shortcut for the given code:\n",
    "\n",
    "spam.setdefault('color', 'black')"
   ]
  },
  {
   "cell_type": "markdown",
   "id": "206e596f",
   "metadata": {},
   "source": [
    "Q8. How do you \"pretty print\" dictionary values using which module and function?\n",
    "\n",
    "Ans: You can pretty print dictionary values using the pprint module and its pprint() function. The pprint() function can be used to print complex data structures like dictionaries and lists in a way that is more human-readable and visually appealing. Here's an example:"
   ]
  },
  {
   "cell_type": "code",
   "execution_count": 4,
   "id": "68dbf04b",
   "metadata": {},
   "outputs": [
    {
     "name": "stdout",
     "output_type": "stream",
     "text": [
      "{'age': 30, 'city': 'New York', 'name': 'John'}\n"
     ]
    }
   ],
   "source": [
    "import pprint\n",
    "\n",
    "my_dict = {'name': 'John', 'age': 30, 'city': 'New York'}\n",
    "\n",
    "pprint.pprint(my_dict)"
   ]
  }
 ],
 "metadata": {
  "kernelspec": {
   "display_name": "Python 3 (ipykernel)",
   "language": "python",
   "name": "python3"
  },
  "language_info": {
   "codemirror_mode": {
    "name": "ipython",
    "version": 3
   },
   "file_extension": ".py",
   "mimetype": "text/x-python",
   "name": "python",
   "nbconvert_exporter": "python",
   "pygments_lexer": "ipython3",
   "version": "3.9.13"
  }
 },
 "nbformat": 4,
 "nbformat_minor": 5
}
