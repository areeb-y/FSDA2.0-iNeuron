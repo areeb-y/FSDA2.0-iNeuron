{
 "cells": [
  {
   "cell_type": "markdown",
   "id": "4b479d07",
   "metadata": {},
   "source": [
    "# Assignment 21"
   ]
  },
  {
   "cell_type": "markdown",
   "id": "dc159c5e",
   "metadata": {},
   "source": [
    "Q1. Add the current date to the text file today.txt as a string.\n",
    "\n",
    "Ans:"
   ]
  },
  {
   "cell_type": "code",
   "execution_count": 2,
   "id": "8b1a07d2",
   "metadata": {},
   "outputs": [],
   "source": [
    "from datetime import datetime\n",
    "\n",
    "# Get the current date and time\n",
    "now = datetime.now()\n",
    "\n",
    "# Format the date as a string\n",
    "date_string = now.strftime(\"%Y-%m-%d\")\n",
    "\n",
    "# Open the file in append mode and write the date string\n",
    "with open(\"C:/Users/Abhishek/Desktop/Class Data/Assignment FSDA 2.0/Python Assignment/today.txt\",\"a\") as file:\n",
    "    file.write(date_string + \"\\n\")"
   ]
  },
  {
   "cell_type": "markdown",
   "id": "6eb52ce7",
   "metadata": {},
   "source": [
    "Q2. Read the text file today.txt into the string today_string\n",
    "\n",
    "Ans:"
   ]
  },
  {
   "cell_type": "code",
   "execution_count": 5,
   "id": "a4432412",
   "metadata": {},
   "outputs": [
    {
     "name": "stdout",
     "output_type": "stream",
     "text": [
      "Python 3.10.4 (tags/v3.10.4:9d38120, Mar 23 2022, 23:13:41) [MSC v.1929 64 bit (AMD64)] on win32\n",
      "Type \"help\", \"copyright\", \"credits\" or \"license()\" for more information.\n",
      "2023-05-18\n",
      "\n"
     ]
    }
   ],
   "source": [
    "with open(\"C:/Users/Abhishek/Desktop/Class Data/Assignment FSDA 2.0/Python Assignment/today.txt\", \"r\") as file:\n",
    "    today_string = file.read()\n",
    "\n",
    "print(today_string)"
   ]
  },
  {
   "cell_type": "markdown",
   "id": "fe74d34a",
   "metadata": {},
   "source": [
    "Q3. Parse the date from today_string.\n",
    "\n",
    "Ans:"
   ]
  },
  {
   "cell_type": "code",
   "execution_count": 14,
   "id": "8d2f8ab8",
   "metadata": {},
   "outputs": [
    {
     "name": "stdout",
     "output_type": "stream",
     "text": [
      "2023-05-18\n"
     ]
    }
   ],
   "source": [
    "from datetime import datetime\n",
    "\n",
    "today_string = \"2023-05-18\"\n",
    "parsed_date = datetime.strptime(today_string, \"%Y-%m-%d\").date()\n",
    "\n",
    "print(parsed_date)"
   ]
  },
  {
   "cell_type": "markdown",
   "id": "bfbfe245",
   "metadata": {},
   "source": [
    "Q4. List the files in your current directory\n",
    "\n",
    "Ans:"
   ]
  },
  {
   "cell_type": "code",
   "execution_count": 15,
   "id": "e21cc20a",
   "metadata": {},
   "outputs": [
    {
     "name": "stdout",
     "output_type": "stream",
     "text": [
      ".ipynb_checkpoints\n",
      "Assignment 1.docx\n",
      "Assignment 10.ipynb\n",
      "Assignment 11.docx\n",
      "Assignment 11.ipynb\n",
      "Assignment 12.ipynb\n",
      "Assignment 13.ipynb\n",
      "Assignment 14.ipynb\n",
      "Assignment 15.ipynb\n",
      "Assignment 16.ipynb\n",
      "Assignment 17.ipynb\n",
      "Assignment 18.ipynb\n",
      "Assignment 19.ipynb\n",
      "Assignment 2.ipynb\n",
      "Assignment 20.ipynb\n",
      "Assignment 21.ipynb\n",
      "Assignment 3 .ipynb\n",
      "Assignment 4.ipynb\n",
      "Assignment 5.ipynb\n",
      "Assignment 6.ipynb\n",
      "Assignment 7.ipynb\n",
      "Assignment 8.docx\n",
      "Assignment 9.docx\n",
      "books.csv\n",
      "books.db\n",
      "test.txt\n",
      "today.txt\n",
      "zoo.py\n",
      "__pycache__\n"
     ]
    }
   ],
   "source": [
    "import os\n",
    "\n",
    "# Get the current directory\n",
    "current_directory = os.getcwd()\n",
    "\n",
    "# List files in the current directory\n",
    "files = os.listdir(current_directory)\n",
    "\n",
    "# Print the files names\n",
    "for file in files:\n",
    "    print(file)"
   ]
  },
  {
   "cell_type": "markdown",
   "id": "c5c6b473",
   "metadata": {},
   "source": [
    "Q5. Create a list of all of the files in your parent directory (minimum five files should be available).\n",
    "\n",
    "Ans:"
   ]
  },
  {
   "cell_type": "code",
   "execution_count": 16,
   "id": "ad7b2209",
   "metadata": {},
   "outputs": [
    {
     "name": "stdout",
     "output_type": "stream",
     "text": [
      "Excel Assignment\n",
      "LinkedIn Dashboard\n",
      "Python Assignment\n",
      "Snowflake Assignment\n"
     ]
    }
   ],
   "source": [
    "import os\n",
    "\n",
    "# Get the Parent directory\n",
    "parent_directory = os.path.abspath(os.path.join(os.getcwd(),os.pardir))\n",
    "\n",
    "# List files in the parent directory\n",
    "files = os.listdir(parent_directory)\n",
    "\n",
    "# Print the file names\n",
    "for file in files:\n",
    "    print(file)"
   ]
  },
  {
   "cell_type": "markdown",
   "id": "68ee62ee",
   "metadata": {},
   "source": [
    "Q6.Use multiprocessing to create three separate processes. Make each one wait a random number of\n",
    "seconds between one and five, print the current time, and then exit.\n",
    "\n",
    "Ans:"
   ]
  },
  {
   "cell_type": "code",
   "execution_count": 48,
   "id": "e7d35757",
   "metadata": {},
   "outputs": [],
   "source": [
    "import multiprocessing\n",
    "import time\n",
    "import random\n",
    "from datetime import datetime\n",
    "\n",
    "# Function to be executed by each process\n",
    "def wait_and_print():\n",
    "    wait_time = random.randint(1, 5)\n",
    "    time.sleep(wait_time)\n",
    "    current_time = datetime.now().strftime(\"%Y-%m-%d %H:%M:%S\")\n",
    "    print(f\"Process {multiprocessing.current_process().name} waited for {wait_time} seconds. Current time: {current_time}\")\n",
    "\n",
    "# Create three separate processes\n",
    "processes = []\n",
    "for i in range(3):\n",
    "    p = multiprocessing.Process(target=wait_and_print)\n",
    "    processes.append(p)\n",
    "    p.start()\n",
    "\n",
    "# Wait for all processes to finish\n",
    "for p in processes:\n",
    "    p.join()"
   ]
  },
  {
   "cell_type": "markdown",
   "id": "93806ca7",
   "metadata": {},
   "source": [
    "Q7. Create a date object of your day of birth.\n",
    "\n",
    "Ans:"
   ]
  },
  {
   "cell_type": "code",
   "execution_count": 25,
   "id": "62ce8152",
   "metadata": {},
   "outputs": [
    {
     "name": "stdout",
     "output_type": "stream",
     "text": [
      "2000-08-29\n"
     ]
    }
   ],
   "source": [
    "from datetime import date\n",
    "\n",
    "birth_date = date(2000,8,29)\n",
    "\n",
    "print(birth_date)"
   ]
  },
  {
   "cell_type": "markdown",
   "id": "69aeff71",
   "metadata": {},
   "source": [
    "Q8.What day of the week was your day of birth?\n",
    "\n",
    "Ans:"
   ]
  },
  {
   "cell_type": "code",
   "execution_count": 27,
   "id": "5c12c4d5",
   "metadata": {},
   "outputs": [
    {
     "name": "stdout",
     "output_type": "stream",
     "text": [
      "Day of birth: Tuesday\n"
     ]
    }
   ],
   "source": [
    "from datetime import date\n",
    "\n",
    "birth_date = date(2000,8,29)\n",
    "\n",
    "# Get the day of the week (Monday is 0 and Sunday is 6)\n",
    "day_of_week = birth_date.weekday()\n",
    "\n",
    "# Map the day of the week to its corresponding name\n",
    "day_names = ['Monday', 'Tuesday', 'Wednesday', 'Thursday', 'Friday', 'Saturday', 'Sunday']\n",
    "day_name = day_names[day_of_week]\n",
    "\n",
    "print(\"Day of birth:\", day_name)"
   ]
  },
  {
   "cell_type": "markdown",
   "id": "af6fc58e",
   "metadata": {},
   "source": [
    "Q9.When will you be (or when were you) 10,000 days old?\n",
    "\n",
    "Ans:"
   ]
  },
  {
   "cell_type": "code",
   "execution_count": 37,
   "id": "4fa820b4",
   "metadata": {},
   "outputs": [
    {
     "name": "stdout",
     "output_type": "stream",
     "text": [
      "10,000 days from the birth date: 2028-01-15 00:00:00\n"
     ]
    }
   ],
   "source": [
    "from datetime import datetime, timedelta\n",
    "\n",
    "# Specify the date of birth\n",
    "birth_date = datetime(2000, 8, 29)\n",
    "\n",
    "# Calculate the date when you will be or were 10,000 days old\n",
    "target_date = birth_date + timedelta(days=10000)\n",
    "\n",
    "print(\"10,000 days from the birth date:\", target_date)"
   ]
  }
 ],
 "metadata": {
  "kernelspec": {
   "display_name": "Python 3 (ipykernel)",
   "language": "python",
   "name": "python3"
  },
  "language_info": {
   "codemirror_mode": {
    "name": "ipython",
    "version": 3
   },
   "file_extension": ".py",
   "mimetype": "text/x-python",
   "name": "python",
   "nbconvert_exporter": "python",
   "pygments_lexer": "ipython3",
   "version": "3.9.13"
  }
 },
 "nbformat": 4,
 "nbformat_minor": 5
}
