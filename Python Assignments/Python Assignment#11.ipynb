{
 "cells": [
  {
   "cell_type": "markdown",
   "id": "93b226c0",
   "metadata": {},
   "source": [
    "# Assignment 11"
   ]
  },
  {
   "cell_type": "markdown",
   "id": "913d5b7b",
   "metadata": {},
   "source": [
    "Q1. Create an assert statement that throws an AssertionError if the variable spam is a negative\n",
    "integer.\n",
    "\n",
    "Ans: Here's an example of an assert statement that throws an AssertionError if the variable 'spam' is a negative integer:"
   ]
  },
  {
   "cell_type": "markdown",
   "id": "2676abd0",
   "metadata": {},
   "source": []
  },
  {
   "cell_type": "code",
   "execution_count": 12,
   "id": "5cbbf7b2",
   "metadata": {},
   "outputs": [
    {
     "ename": "AssertionError",
     "evalue": "spam should be a non-negative integer",
     "output_type": "error",
     "traceback": [
      "\u001b[1;31m---------------------------------------------------------------------------\u001b[0m",
      "\u001b[1;31mAssertionError\u001b[0m                            Traceback (most recent call last)",
      "\u001b[1;32m~\\AppData\\Local\\Temp\\ipykernel_6404\\1091002805.py\u001b[0m in \u001b[0;36m<module>\u001b[1;34m\u001b[0m\n\u001b[0;32m      1\u001b[0m \u001b[0mspam\u001b[0m \u001b[1;33m=\u001b[0m \u001b[1;33m-\u001b[0m\u001b[1;36m1\u001b[0m\u001b[1;33m\u001b[0m\u001b[1;33m\u001b[0m\u001b[0m\n\u001b[1;32m----> 2\u001b[1;33m \u001b[1;32massert\u001b[0m \u001b[0mspam\u001b[0m \u001b[1;33m>=\u001b[0m \u001b[1;36m0\u001b[0m\u001b[1;33m,\u001b[0m\u001b[1;34m\"spam should be a non-negative integer\"\u001b[0m\u001b[1;33m\u001b[0m\u001b[1;33m\u001b[0m\u001b[0m\n\u001b[0m",
      "\u001b[1;31mAssertionError\u001b[0m: spam should be a non-negative integer"
     ]
    }
   ],
   "source": [
    "spam = -1\n",
    "assert spam >= 0,\"spam should be a non-negative integer\""
   ]
  },
  {
   "cell_type": "markdown",
   "id": "428d0e32",
   "metadata": {},
   "source": [
    "Q2. Write an assert statement that triggers an AssertionError if the variables eggs and bacon contain\n",
    "strings that are the same as each other, even if their cases are different (that is, 'hello' and 'hello' are\n",
    "considered the same, and 'goodbye' and 'GOODbye' are also considered the same).\n",
    "\n",
    "Ans: Here's an assert statement that triggers an AssertionError if the variables 'eggs' and 'bacon' contain strings that are the same as each other, even if their cases are differnt:"
   ]
  },
  {
   "cell_type": "code",
   "execution_count": 13,
   "id": "a384a24d",
   "metadata": {},
   "outputs": [
    {
     "ename": "AssertionError",
     "evalue": "eggs and bacon should not have the same value, even if their cases are different.",
     "output_type": "error",
     "traceback": [
      "\u001b[1;31m---------------------------------------------------------------------------\u001b[0m",
      "\u001b[1;31mAssertionError\u001b[0m                            Traceback (most recent call last)",
      "\u001b[1;32m~\\AppData\\Local\\Temp\\ipykernel_6404\\1297068429.py\u001b[0m in \u001b[0;36m<module>\u001b[1;34m\u001b[0m\n\u001b[0;32m      1\u001b[0m \u001b[0meggs\u001b[0m \u001b[1;33m=\u001b[0m \u001b[1;34m\"spam\"\u001b[0m\u001b[1;33m\u001b[0m\u001b[1;33m\u001b[0m\u001b[0m\n\u001b[0;32m      2\u001b[0m \u001b[0mbacon\u001b[0m \u001b[1;33m=\u001b[0m \u001b[1;34m\"spam\"\u001b[0m\u001b[1;33m\u001b[0m\u001b[1;33m\u001b[0m\u001b[0m\n\u001b[1;32m----> 3\u001b[1;33m \u001b[1;32massert\u001b[0m \u001b[0meggs\u001b[0m\u001b[1;33m.\u001b[0m\u001b[0mlower\u001b[0m\u001b[1;33m(\u001b[0m\u001b[1;33m)\u001b[0m \u001b[1;33m!=\u001b[0m \u001b[0mbacon\u001b[0m\u001b[1;33m.\u001b[0m\u001b[0mlower\u001b[0m\u001b[1;33m(\u001b[0m\u001b[1;33m)\u001b[0m\u001b[1;33m,\u001b[0m \u001b[1;34m\"eggs and bacon should not have the same value, even if their cases are different.\"\u001b[0m\u001b[1;33m\u001b[0m\u001b[1;33m\u001b[0m\u001b[0m\n\u001b[0m",
      "\u001b[1;31mAssertionError\u001b[0m: eggs and bacon should not have the same value, even if their cases are different."
     ]
    }
   ],
   "source": [
    "eggs = \"spam\"\n",
    "bacon = \"spam\"\n",
    "assert eggs.lower() != bacon.lower(), \"eggs and bacon should not have the same value, even if their cases are different.\""
   ]
  },
  {
   "cell_type": "markdown",
   "id": "9ab35618",
   "metadata": {},
   "source": [
    "Q3. Create an assert statement that throws an AssertionError every time.\n",
    "\n",
    "Ans: Here's an assert statement that will always throw an AssertionError:"
   ]
  },
  {
   "cell_type": "code",
   "execution_count": 5,
   "id": "301cf3da",
   "metadata": {},
   "outputs": [
    {
     "ename": "AssertionError",
     "evalue": "This assertion always fails",
     "output_type": "error",
     "traceback": [
      "\u001b[1;31m---------------------------------------------------------------------------\u001b[0m",
      "\u001b[1;31mAssertionError\u001b[0m                            Traceback (most recent call last)",
      "\u001b[1;32m~\\AppData\\Local\\Temp\\ipykernel_6404\\942676676.py\u001b[0m in \u001b[0;36m<module>\u001b[1;34m\u001b[0m\n\u001b[1;32m----> 1\u001b[1;33m \u001b[1;32massert\u001b[0m \u001b[1;32mFalse\u001b[0m\u001b[1;33m,\u001b[0m\u001b[1;34m\"This assertion always fails\"\u001b[0m\u001b[1;33m\u001b[0m\u001b[1;33m\u001b[0m\u001b[0m\n\u001b[0m",
      "\u001b[1;31mAssertionError\u001b[0m: This assertion always fails"
     ]
    }
   ],
   "source": [
    "assert False,\"This assertion always fails\""
   ]
  },
  {
   "cell_type": "markdown",
   "id": "80147769",
   "metadata": {},
   "source": [
    "Q4. What are the two lines that must be present in your software in order to call logging.debug()?\n",
    "\n",
    "Ans: To use the 'logging.debug()' function in your software , you must have the following two lines present:"
   ]
  },
  {
   "cell_type": "code",
   "execution_count": 7,
   "id": "56043e9b",
   "metadata": {},
   "outputs": [],
   "source": [
    "import logging\n",
    "logging.basicConfig(level=logging.DEBUG, format=' %(asctime)s - %(levelname)s - %(message)s')\n"
   ]
  },
  {
   "cell_type": "markdown",
   "id": "13a72a86",
   "metadata": {},
   "source": [
    "Q5. What are the two lines that your program must have in order to have logging.debug() send a\n",
    "logging message to a file named programLog.txt?\n",
    "\n",
    "Ans: To send a logging message to a file named programLog.txt, the program must have the following two lines of code:\n",
    "        "
   ]
  },
  {
   "cell_type": "code",
   "execution_count": 8,
   "id": "9f9cf578",
   "metadata": {},
   "outputs": [],
   "source": [
    "import logging\n",
    "logging.basicConfig(filename='programLog.txt', level=logging.DEBUG, format=' %(asctimes - %(levelname)s - %(message)s')"
   ]
  },
  {
   "cell_type": "markdown",
   "id": "b8767c6a",
   "metadata": {},
   "source": [
    "Q6. What are the five levels of logging?\n",
    "\n",
    "Ans: The five levels of logging in increasing order of severity, are:\n",
    "\n",
    "1. DEBUG: Detailed information, typically of interest only when diagnosing problems.\n",
    "2. INFO: General information about the program's operation.\n",
    "3. WARNING: An indication that something unexpected or indicative of a problem has happened or indicative of some problem in the near future (e.g., 'disk space low'). The software is still working as expected.\n",
    "4. ERROR: Due to a more serious problem, the software has not been able to perform some function.\n",
    "5. CRITICAL: A very serious error, indicating that the program itself may be unable to continue running. "
   ]
  },
  {
   "cell_type": "markdown",
   "id": "b4d3d5d2",
   "metadata": {},
   "source": [
    "Q7. What line of code would you add to your software to disable all logging messages?\n",
    "\n",
    "Ans: The following line of code to diable all logging messages: "
   ]
  },
  {
   "cell_type": "code",
   "execution_count": 11,
   "id": "abec83ce",
   "metadata": {},
   "outputs": [],
   "source": [
    "logging.disable(logging.CRITICAL)\n",
    "# This will disable all logging messages with a level of 'CRITICAL'."
   ]
  },
  {
   "cell_type": "markdown",
   "id": "f057e160",
   "metadata": {},
   "source": [
    "Q8. Why is using logging messages better than using print() to display the same message?\n",
    "\n",
    "Ans: Using logging messages has several advantages over using print() to display messages:\n",
    "\n",
    "- Granular control over message levels: With logging, you can set different levels of logging messages (DEBUG, INFO, WARNING, ERROR, CRITICAL) and choose which messages to display based on their level. This allows you to fine-tune the amount of output you see in your console or log file, depending on how verbose you want your output to be.\n",
    "\n",
    "- Flexible output destinations: With logging, you can easily direct your messages to different output destinations, such as a file, a socket, or a database. This makes it easy to log messages in a centralized location for later analysis, or to send messages to different places based on their severity.\n",
    "\n",
    "- Formatting options: Logging messages offer much more flexibility in terms of formatting compared to print() statements. With logging, you can easily customize the format of your messages to include timestamps, log levels, and other metadata.\n",
    "\n",
    "- Runtime configurability: Logging messages can be configured at runtime, which means you can change the verbosity of your logging output without changing your code. This is especially useful in situations where you need to debug a specific issue and want to see more output than usual.\n",
    "\n",
    "- Thread safety: Logging is thread-safe, which means that you can log messages from multiple threads without worrying about race conditions or other concurrency issues. This is not the case with print() statements, which can cause issues when multiple threads are writing to the console at the same time."
   ]
  },
  {
   "cell_type": "markdown",
   "id": "60e86bb2",
   "metadata": {},
   "source": [
    "Q9. What are the differences between the Step Over, Step In, and Step Out buttons in the debugger?\n",
    "\n",
    "Ans: The Step Over, Step In, and Step Out buttons in a debugger help in the execution of code line by line. The differences between these buttons are:\n",
    "\n",
    "- Step Over: The Step Over button is used to execute the current line of code and move to the next line. If the current line of code has a function call, the function is executed, and the debugger moves to the next line after the function call. This button is useful when the programmer is not interested in stepping into a function and only wants to execute it.\n",
    "\n",
    "- Step In: The Step In button is used to execute the current line of code and move into the function call if the current line of code has a function call. The debugger will stop at the first line of the function. This button is useful when the programmer wants to debug the code inside the function call.\n",
    "\n",
    "- Step Out: The Step Out button is used to execute the code until it returns from the current function. This button is useful when the programmer has already stepped into a function and wants to return to the calling function. The debugger will execute the remaining lines of the current function and stop at the first line of the calling function."
   ]
  },
  {
   "cell_type": "markdown",
   "id": "08f56e74",
   "metadata": {},
   "source": [
    "Q10. After you click Continue, when will the debugger stop ?\n",
    "\n",
    "Ans: After you click Continue, the debugger will stop when it reaches a breakpoint, encounters an unhandled exception, or reaches the end of the program. If there are no more breakpoints, unhandled exceptions, or the end of the program, the debugger will continue to run until it is manually stopped or interrupted."
   ]
  },
  {
   "cell_type": "markdown",
   "id": "e0af416f",
   "metadata": {},
   "source": [
    "Q11. What is the concept of a breakpoint?\n",
    "\n",
    "Ans: A breakpoint is a debugging tool that allows a programmer to temporarily pause the execution of a program at a specific point during runtime. By setting a breakpoint, the programmer can examine the program's state, variables, and memory at that point, helping to identify and fix bugs and errors. Once the breakpoint is reached, the program execution is paused, and the debugger allows the programmer to step through the code, examine variables and expressions, and make changes to the program's state before continuing the execution. Breakpoints are a crucial tool for debugging and troubleshooting complex programs."
   ]
  }
 ],
 "metadata": {
  "kernelspec": {
   "display_name": "Python 3 (ipykernel)",
   "language": "python",
   "name": "python3"
  },
  "language_info": {
   "codemirror_mode": {
    "name": "ipython",
    "version": 3
   },
   "file_extension": ".py",
   "mimetype": "text/x-python",
   "name": "python",
   "nbconvert_exporter": "python",
   "pygments_lexer": "ipython3",
   "version": "3.9.13"
  }
 },
 "nbformat": 4,
 "nbformat_minor": 5
}
