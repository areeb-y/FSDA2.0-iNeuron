{
 "cells": [
  {
   "cell_type": "markdown",
   "id": "4bc166af",
   "metadata": {},
   "source": [
    "# Assignment - 2"
   ]
  },
  {
   "cell_type": "markdown",
   "id": "b449173e",
   "metadata": {},
   "source": [
    "##### Q1.What are the two values of the Boolean data type? How do you write them?\n",
    "\n",
    "Ans: The two values of the boolean data type are 'True' and 'False'. In Python, these values are written exactly as shown, with the first letter capitalized and the rest of the letters in lowercase."
   ]
  },
  {
   "cell_type": "markdown",
   "id": "3cfc8b26",
   "metadata": {},
   "source": [
    "##### Q2. What are the three different types of Boolean operators?\n",
    "\n",
    "Ans: There are three different types of Boolean operators in Python:\n",
    "1. 'and': The 'and' operator returns 'True' if both operands are true, otherwise it returns 'False'. For example, 'True and False' evaluates to 'False', while 'True and True' evaluates to 'True'.\n",
    "\n",
    "2. 'or': The 'or' operator returns 'True' if either of the operands is true, otherwise it returns 'False'. For example, 'True or False' evaluates to 'True', while 'False or False' evaluates to 'False'.\n",
    "\n",
    "3. 'not': The 'not' operator return the opposite of the operand. If the operands is 'True', then 'not' returns 'False', and if the operand is 'False', then 'not' returns 'True'. For example, 'not True' evaluates to 'False', while 'not False' evaluates to 'True'."
   ]
  },
  {
   "cell_type": "markdown",
   "id": "50f1c95a",
   "metadata": {},
   "source": [
    "##### Q3. Make a list of each Boolean operator's truth tables (i.e. every possible combination of Boolean values for the operator and what it evaluate ).\n",
    "\n",
    "Ans: The truth tables for the three Boolean operators in Python:\n",
    "\n",
    "1. 'and' operator:\n",
    "Operand 1\tOperand 2\tResult\n",
    " True\t     True\t    True\n",
    " True\t     False      False\n",
    " False\t     True\t    False\n",
    " False\t     False\t    False\n",
    " \n",
    "2. 'or' operator:\n",
    "Operand 1\tOperand 2\tResult\n",
    " True\t     True\t    True\n",
    " True\t     False\t    True\n",
    " False\t     True\t    True\n",
    " False\t     False\t    False\n",
    "\n",
    "3. 'not' operator:\n",
    "Operand\t Result\n",
    " True\t False\n",
    " False\t True\n",
    " \n",
    "In each truth table, the operands are combined using the Boolean operator to produce a result. The result is either 'True or False' depending on the values of the operands and the operator used. These truth tables are used to determine the result of a Boolean expression. "
   ]
  },
  {
   "cell_type": "markdown",
   "id": "3b08195c",
   "metadata": {},
   "source": [
    "##### Q4. What are the values of the following expressions?\n",
    "(5 > 4) and (3 == 5)\n",
    "not (5 > 4)\n",
    "(5 > 4) or (3 == 5)\n",
    "not ((5 > 4) or (3 == 5))\n",
    "(True and True) and (True == False)\n",
    "(not False) or (not True)\n",
    "\n",
    "Ans: The values of the given expressions:\n",
    "\n",
    "1.'(5 > 4) and (3 == 5)' evaluates to 'False'. This is because the second operand (3 == 5) is False, and the and operator requires both operands to be True in order to produce a True result.\n",
    "\n",
    "2.'not (5 > 4)' evaluates to 'False'. This is because the expression 5 > 4 evaluates to True, and the not operator negates this result, producing a False result.\n",
    "\n",
    "3.'(5 > 4) or (3 == 5)' evaluates to 'True'. This is because the first operand (5 > 4) is True, and the or operator requires only one operand to be True in order to produce a True result.\n",
    "\n",
    "4.'not ((5 > 4) or (3 == 5))' evaluates to 'False'. This is because the expression (5 > 4) or (3 == 5) evaluates to True, and the not operator negates this result, producing a False result.\n",
    "\n",
    "5.'(True and True) and (True == False)' evaluates to 'False'. This is because the second operand (True == False) is False, and the and operator requires both operands to be True in order to produce a True result.\n",
    "\n",
    "6.'(not False) or (not True)' evaluates to 'True'. This is because the first operand (not False) is True, and the or operator requires only one operand to be True in order to produce a True result."
   ]
  },
  {
   "cell_type": "markdown",
   "id": "5af08b7c",
   "metadata": {},
   "source": [
    "##### Q5. What are the six comparison operators?\n",
    "\n",
    "Ans: The six comparison operators in Python are:\n",
    "\n",
    "1.'>' (greater than): returns 'True' if the left operand is greater than the right operand, otherwise False.\n",
    "\n",
    "2.'<' (less than): returns 'True' if the left operand is less than the right operand, otherwise False.\n",
    "\n",
    "3.'>=' (greater than or equal to): returns 'True' if the left operand is greater than or equal to the right operand, otherwise False.\n",
    "\n",
    "4.'<=' (less than or equal to): returns 'True' if the left operand is less than or equal to the right operand, otherwise False.\n",
    "\n",
    "5.'==' (equal to): returns True if the left operand is equal to the right operand, otherwise False.\n",
    "\n",
    "6.'!=' (not equal to): returns 'True' if the left operand is not equal to the right operand, otherwise False.\n",
    "\n",
    "These comparison operators are used to compare two values and produce a Boolean result ('True or False') based on the comparison."
   ]
  },
  {
   "cell_type": "markdown",
   "id": "d389b2fc",
   "metadata": {},
   "source": [
    "##### Q6. How do you tell the difference between the equal to and assignment operators?Describe a\n",
    "condition and when you would use one.\n",
    "\n",
    "Ans: The equal to operator (==) is used to compare whether two values are equal or not, while the assignment operator (=) is used to assign a value to a variable.\n",
    "\n",
    "For example, \n",
    "x = 5     # assign the value 5 to the variable x\n",
    "y = 7     # assign the value 7 to the variable y\n",
    "z = x == y # compare whether x and y are equal and assign the result to z\n",
    "\n",
    "In this code, the first two lines use the assignment operator to assign values to the variables x and y, while the third line uses the equal to operator to compare the values of x and y and assign the result to the variable z.\n",
    "\n",
    "A condition where you would use the equal to operator is when you want to compare whether two values are equal or not. For example, if you want to check whether a user inputted password matches a predefined password, you would use the equal to operator to compare the two values.\n",
    "\n",
    "On the other hand, you would use the assignment operator when you want to assign a value to a variable. For example, if you want to store a user's age in a variable, you would use the assignment operator to assign the user's age to the variable."
   ]
  },
  {
   "cell_type": "markdown",
   "id": "feb3f85f",
   "metadata": {},
   "source": [
    "##### Q7. Identify the three blocks in this code:\n",
    "spam = 0\n",
    "if spam == 10:\n",
    "print('eggs')\n",
    "if spam >5:\n",
    "print('bacon')\n",
    "else:\n",
    "print('ham')\n",
    "print('spam')\n",
    "print('spam')\n",
    "\n",
    "Ans: The three blocks in the code are:\n",
    "\n",
    "1. The first block consists of a single line that assigns the value 0 to the variable spam.\n",
    "\n",
    "2. The second block is an if statement that checks whether the value of spam is equal to 10. If it is, the code inside the if block will execute. However, since there is no indentation for the print('eggs') statement, this code would result in a syntax error.\n",
    "\n",
    "3. The third block is another if statement that checks whether the value of spam is greater than 5. If it is, the code inside the if block will execute, which is to print the string 'bacon'. If the condition is not met, the code inside the else block will execute, which is to print the string 'ham'. Finally, the code outside of the if/else block will execute, which is to print the string 'spam' twice."
   ]
  },
  {
   "cell_type": "markdown",
   "id": "3603806a",
   "metadata": {},
   "source": [
    "##### Q8. Write code that prints Hello if 1 is stored in spam, prints Howdy if 2 is stored in spam, and prints\n",
    "Greetings! if anything else is stored in spam.\n",
    "\n",
    "Ans:\n",
    "\n",
    "spam = 3\n",
    "\n",
    "if spam == 1:\n",
    "\n",
    "    print('Hello')\n",
    "    \n",
    "elif spam == 2:\n",
    "\n",
    "    print('Howdy')\n",
    "    \n",
    "else:\n",
    "\n",
    "    print('Greetings!')"
   ]
  },
  {
   "cell_type": "markdown",
   "id": "8bb9dc24",
   "metadata": {},
   "source": [
    "##### Q9. If your programme is stuck in an endless loop, what keys you’ll press?\n",
    "\n",
    "Ans: If a program is stuck in an endless loop, the best way to stop it is to press Ctrl + C on Windows or Command + C on Mac. This sends an interrupt signal to the program, which causes it to stop running.\n",
    "\n",
    "Alternatively, if you are running the program in an integrated development environment (IDE) or a command-line interface, you can try clicking the \"stop\" or \"interrupt\" button, which should have a similar effect of stopping the program."
   ]
  },
  {
   "cell_type": "markdown",
   "id": "21fbb2a1",
   "metadata": {},
   "source": [
    "##### Q10. How can you tell the difference between break and continue?\n",
    "\n",
    "Ans: 'break' and 'continue' are two keywords used in loops in Python:\n",
    "\n",
    "- break is used to exit a loop completely when a certain condition is met.\n",
    "- continue is used to skip the current iteration of a loop when a certain condition is met, and continue with the next iteration.\n",
    "\n",
    "So the key difference between break and continue is that break exits the loop completely, while continue skips the current iteration and moves on to the next iteration."
   ]
  },
  {
   "cell_type": "markdown",
   "id": "8e241ee2",
   "metadata": {},
   "source": [
    "##### Q11. In a for loop, what is the difference between range(10), range(0, 10), and range(0, 10, 1)?\n",
    "\n",
    "Ans: In a for loop, range(10), range(0, 10), and range(0, 10, 1) all generate a sequence of numbers that can be iterated over. However, they differ in their arguments:\n",
    "\n",
    "1. range(10) generates a sequence of numbers from 0 to 9. This is equivalent to range(0, 10).\n",
    "2. range(0, 10) generates a sequence of numbers from 0 to 9, with a step size of 1. This is equivalent to range(10)..\n",
    "3. range(0, 10, 1) generates a sequence of numbers from 0 to 9, with a step size of 1. This is equivalent to range(10) and range(0, 10).\n",
    "\n",
    "In general, range(start, stop, step) generates a sequence of numbers from start to stop - 1, incrementing by step. If start is not specified, it defaults to 0. If step is not specified, it defaults to 1."
   ]
  },
  {
   "cell_type": "markdown",
   "id": "a97bc102",
   "metadata": {},
   "source": [
    "##### Q12. Write a short program that prints the numbers 1 to 10 using a for loop.Then write an equivalent program that prints the numbers 1 to 10 using a while loop.\n",
    "\n",
    "Ans: \n",
    "##### A short program that prints the numbers 1 to 10 using 'for' loop:\n",
    "for i in range(1,11):\n",
    "\n",
    "    print(i)\n",
    "    \n",
    "##### An equivalent program that prints the numbers 1 to 10 using a ' while' loop:\n",
    "\n",
    "j = 1\n",
    "\n",
    "while j <= 10:\n",
    "\n",
    "    print(j)\n",
    "    \n",
    "    j += 1\n",
    "    "
   ]
  },
  {
   "cell_type": "markdown",
   "id": "60a81123",
   "metadata": {},
   "source": [
    "##### Q13. If you had a function named bacon() inside a module named spam, how would you call it after importing spam?\n",
    "\n",
    "Ans: If we had a function named bacon() inside a module named 'spam', you can call it after importing 'spam'\n",
    "using the following syntax:\n",
    "\n",
    "import spam\n",
    "\n",
    "spam.bacon()\n"
   ]
  },
  {
   "cell_type": "code",
   "execution_count": null,
   "id": "f99362dd",
   "metadata": {},
   "outputs": [],
   "source": []
  }
 ],
 "metadata": {
  "kernelspec": {
   "display_name": "Python 3 (ipykernel)",
   "language": "python",
   "name": "python3"
  },
  "language_info": {
   "codemirror_mode": {
    "name": "ipython",
    "version": 3
   },
   "file_extension": ".py",
   "mimetype": "text/x-python",
   "name": "python",
   "nbconvert_exporter": "python",
   "pygments_lexer": "ipython3",
   "version": "3.9.13"
  }
 },
 "nbformat": 4,
 "nbformat_minor": 5
}
