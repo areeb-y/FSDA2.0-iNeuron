{
 "cells": [
  {
   "cell_type": "markdown",
   "id": "117301cd",
   "metadata": {},
   "source": [
    "## Assignment - 7 "
   ]
  },
  {
   "cell_type": "markdown",
   "id": "394929cf",
   "metadata": {},
   "source": [
    "Q1. What is the name of the feature responsible for generating Regex objects?\n",
    "\n",
    "Ans: The 're.compile()' function is responsible for generating Regex objects."
   ]
  },
  {
   "cell_type": "markdown",
   "id": "2e88d03b",
   "metadata": {},
   "source": [
    "Q2. Why do raw strings often appear in Regex objects?\n",
    "\n",
    "Ans: Raw strings are often used in regular expressions because backslashes have a special meaning in regular expressions, and using raw strings allows us to avoid escaping them. In Python, backslashes are used as escape characters in string literals. However, in regular expressions, backslashes are used to escape special characters, such as the period (.), asterisk (*), and plus sign (+), among others. Using raw strings in regular expressions tells Python to ignore the backslash characters and treat them as literal backslashes, which is often what we want in regular expressions. "
   ]
  },
  {
   "cell_type": "markdown",
   "id": "f2932fd3",
   "metadata": {},
   "source": [
    "Q3. What is the return value of the search() method?\n",
    "\n",
    "Ans: \n",
    "The 'search()' method in Python's regular expression module 're' returns a match object if a pattern is found in a string. If the pattern is not found, the method returns 'None'. The match object contains information about the matching string, including the starting and ending index positions of the match and the matching text."
   ]
  },
  {
   "cell_type": "markdown",
   "id": "a4e05fb0",
   "metadata": {},
   "source": [
    "Q4. From a Match item, how do you get the actual strings that match the pattern?\n",
    "\n",
    "Ans: You can get the actual strings that match the pattern from a Match object using the 'group()' method.\n",
    "\n",
    "Calling 'group()' with no arguments returns the entire match, while calling it with an integer argument n returns the nth group of the match (if it exists). For example, given a 'Match' object named 'match_obj', 'match_obj.group(0)' returns the entire match and 'match_obj.group(1)' returns the first group of the match."
   ]
  },
  {
   "cell_type": "markdown",
   "id": "e94ed947",
   "metadata": {},
   "source": [
    "Q5. In the regex which created from the r'(\\d\\d\\d)-(\\d\\d\\d-\\d\\d\\d\\d)', what does group zero cover? Group 2? Group 1?\n",
    "\n",
    "Ans: In the regex created from the pattern r'(\\d\\d\\d)-(\\d\\d\\d-\\d\\d\\d\\d)', group zero covers the entire match, group 1 covers the first set of parentheses (\\d\\d\\d), and group 2 covers the second set of parentheses (\\d\\d\\d-\\d\\d\\d\\d)."
   ]
  },
  {
   "cell_type": "markdown",
   "id": "568cd24a",
   "metadata": {},
   "source": [
    "Q6. In standard expression syntax, parentheses and intervals have distinct meanings. How can you tell a regex that you want it to fit real parentheses and periods?\n",
    "\n",
    "Ans: To match literal parentheses and periods in a regular expression, you need to escape them with a backslash character (). This tells the regex engine that you want to match the actual characters and not use them for their special meaning in regex syntax."
   ]
  },
  {
   "cell_type": "markdown",
   "id": "4326b129",
   "metadata": {},
   "source": [
    "Q7. The findall() method returns a string list or a list of string tuples. What causes it to return one of the two options?\n",
    "\n",
    "Ans: The findall() method returns a list of strings if the regular expression passed as the pattern to the findall() method does not have any groups. If the regular expression has groups, then it returns a list of tuples, where each tuple contains the strings that match each group in the regular expression."
   ]
  },
  {
   "cell_type": "markdown",
   "id": "e2b123a5",
   "metadata": {},
   "source": [
    "Q8. In standard expressions, what does the | character mean?\n",
    "\n",
    "Ans: In standard expressions, the | character denotes the logical OR operator. It is used to match any one of a series of alternatives in the regular expression pattern."
   ]
  },
  {
   "cell_type": "markdown",
   "id": "09f07202",
   "metadata": {},
   "source": [
    "Q9. In regular expressions, what does the | character stand for?\n",
    "\n",
    "Ans: In regular expressions, the | character is known as the alternation or OR operator. It allows you to match either one expression or another."
   ]
  },
  {
   "cell_type": "markdown",
   "id": "030fb45e",
   "metadata": {},
   "source": [
    "Q10. In regular expressions, what is the difference between the + and * characters? \n",
    "\n",
    "Ans: In regular expressions:\n",
    "\n",
    "- The + character matches one or more occurrences of the preceding character or group. For example, the pattern a+ will match one or more consecutive occurrences of the character \"a\".\n",
    "\n",
    "- The * character matches zero or more occurrences of the preceding character or group. For example, the pattern a* will match zero or more consecutive occurrences of the character \"a\".\n",
    "\n",
    "The main difference between the two is that + requires at least one occurrence of the preceding character or group, while * does not."
   ]
  },
  {
   "cell_type": "markdown",
   "id": "6a458818",
   "metadata": {},
   "source": [
    "Q11. What is the difference between {4} and {4,5} in regular expression?\n",
    "\n",
    "Ans: In regular expressions, {4} specifies exactly four matches of the preceding pattern, whereas {4,5} specifies at least four and at most five matches of the preceding pattern. For example, the regular expression \"a{4}\" matches exactly four consecutive \"a\" characters in a string, whereas \"a{4,5}\" matches four or five consecutive \"a\" characters in a string."
   ]
  },
  {
   "cell_type": "markdown",
   "id": "bab8d6e7",
   "metadata": {},
   "source": [
    "Q12. What do you mean by the \\d, \\w, and \\s shorthand character classes signify in regular expressions?\n",
    "\n",
    "Ans: In regular expressions, shorthand character classes are used to match specific types of characters.\n",
    "\n",
    "- The \\d shorthand character class is used to match any digit character. It is equivalent to the character set [0-9].\n",
    "\n",
    "- The \\w shorthand character class is used to match any word character, which includes letters, digits, and underscores. It is equivalent to the character set [a-zA-Z0-9_].\n",
    "\n",
    "- The \\s shorthand character class is used to match any whitespace character, which includes spaces, tabs, and newlines. It is equivalent to the character set [\\t\\n\\r\\f\\v]."
   ]
  },
  {
   "cell_type": "markdown",
   "id": "bce28493",
   "metadata": {},
   "source": [
    "Q13. What do means by \\D, \\W, and \\S shorthand character classes signify in regular expressions?\n",
    "\n",
    "Ans: In regular expressions, the shorthand character classes \\D, \\W, and \\S are used to match any character that is not a digit, word character, and whitespace character, respectively.\n",
    "\n",
    "- \\D: matches any character that is not a digit (0-9).\n",
    "- \\W: matches any character that is not a word character (alphanumeric character or underscore).\n",
    "- \\S: matches any character that is not a whitespace character (space, tab, newline, etc.).\n",
    "For example, the regular expression \\D+ will match one or more non-digit characters, while \\W\\s will match a non-word character followed by a whitespace character."
   ]
  },
  {
   "cell_type": "markdown",
   "id": "fda81c5e",
   "metadata": {},
   "source": [
    "Q14. What is the difference between .*? and .*?\n",
    "\n",
    "Ans: There is no difference between .*? and .*.\n",
    "\n",
    "The . matches any character except a newline character. The * matches zero or more occurrences of the preceding character. The ? makes the * non-greedy, meaning it will match as few characters as possible to satisfy the expression.\n",
    "\n",
    "In .*?, the ? makes the * non-greedy. In .*, the * is greedy, meaning it will match as many characters as possible to satisfy the expression.\n",
    "\n",
    "However, in both cases, the . matches any character except a newline character, and the * matches zero or more occurrences of the preceding character."
   ]
  },
  {
   "cell_type": "markdown",
   "id": "cfeeac3a",
   "metadata": {},
   "source": [
    "Q15. What is the syntax for matching both numbers and lowercase letters with a character class?\n",
    "\n",
    "Ans: To match both numbers and lowercase letters with a character class in regular expressions, you can use the following syntax:\n",
    "\n",
    "[0-9a-z]\n",
    "\n",
    "This will match any character that is either a digit from 0 to 9 or a lowercase letter from a to z. The square brackets define a character class, which matches any one of the characters inside it. The hyphen between 0-9 and a-z indicates a range of characters to match, and in this case, it matches any character that falls between 0-9 or a-z."
   ]
  },
  {
   "cell_type": "markdown",
   "id": "79228d2b",
   "metadata": {},
   "source": [
    "Q16. What is the procedure for making a normal expression in regax case insensitive?\n",
    "\n",
    "Ans: To make a regular expression in regex case-insensitive, you can use the re.IGNORECASE or re.I flag as a second argument to the re.compile() method. This flag makes the regex search case-insensitive, meaning it will match both upper and lower case letters. "
   ]
  },
  {
   "cell_type": "code",
   "execution_count": 2,
   "id": "0ca42477",
   "metadata": {},
   "outputs": [
    {
     "name": "stdout",
     "output_type": "stream",
     "text": [
      "['Hello', 'hello']\n"
     ]
    }
   ],
   "source": [
    "#Here's an example:\n",
    "\n",
    "import re\n",
    "\n",
    "pattern = re.compile('hello', re.IGNORECASE)\n",
    "matches = pattern.findall('Hello World, hello!')\n",
    "print(matches)"
   ]
  },
  {
   "cell_type": "markdown",
   "id": "6421eacf",
   "metadata": {},
   "source": [
    "Q17. What does the . character normally match? What does it match if re.DOTALL is passed as 2nd argument in re.compile()?\n",
    "\n",
    "Ans: In regular expressions, the . character normally matches any character except for a newline character \\n. However, if re.DOTALL (or re.S) is passed as the second argument to re.compile(), then the . character matches any character, including newline characters."
   ]
  },
  {
   "cell_type": "markdown",
   "id": "1a0409e7",
   "metadata": {},
   "source": [
    "Q18. If numReg = re.compile(r'\\d+'), what will numRegex.sub('X', '11 drummers, 10 pipers, five rings, 4 hen') return?\n",
    "\n",
    "Ans: The code numRegex.sub('X', '11 drummers, 10 pipers, five rings, 4 hen') will return the string 'X drummers, X pipers, five rings, X hen'.\n",
    "\n",
    "Here, the numRegex pattern matches one or more digits, and the sub() method replaces all matches with the string 'X'. The final string returned has all the digit sequences in the original string replaced with the character 'X'."
   ]
  },
  {
   "cell_type": "markdown",
   "id": "459028eb",
   "metadata": {},
   "source": [
    "Q19. What does passing re.VERBOSE as the 2nd argument to re.compile() allow to do?\n",
    "\n",
    "Ans: Passing re.VERBOSE as the 2nd argument to re.compile() allows the use of verbose mode in regular expressions. This means that whitespace and comments can be added to the regular expression to make it more readable without affecting the pattern being matched. In verbose mode, whitespace characters (spaces, tabs, and newlines) are ignored, except when they are inside a character class or when they are escaped with a backslash. Comments are also allowed in the pattern by prefixing them with the # character. The verbose mode can be helpful for creating complex regular expressions that are easier to read and maintain."
   ]
  },
  {
   "cell_type": "markdown",
   "id": "fae83d16",
   "metadata": {},
   "source": [
    "Q20. How would you write a regex that match a number with comma for every three digits? It must match the given following:\n",
    "\n",
    "'42'\n",
    "\n",
    "'1,234'\n",
    "\n",
    "'6,368,745'\n",
    "\n",
    "but not the following:\n",
    "\n",
    "'12,34,567' (which has only two digits between the commas)\n",
    "\n",
    "'1234' (which lacks commas)\n",
    "\n",
    "Ans: To match a number with comma for every three digits that meets the specified criteria, we can use the following regex pattern:\n",
    "\n",
    "^\\d{1,3}(,\\d{3})*$"
   ]
  },
  {
   "cell_type": "code",
   "execution_count": 4,
   "id": "3c1ad8fd",
   "metadata": {},
   "outputs": [
    {
     "name": "stdout",
     "output_type": "stream",
     "text": [
      "<re.Match object; span=(0, 2), match='42'>\n",
      "<re.Match object; span=(0, 5), match='1,234'>\n",
      "<re.Match object; span=(0, 9), match='6,368,745'>\n",
      "None\n",
      "None\n"
     ]
    }
   ],
   "source": [
    "import re\n",
    "\n",
    "pattern = r'^\\d{1,3}(,\\d{3})*$'\n",
    "regex = re.compile(pattern)\n",
    "\n",
    "print(regex.match('42'))\n",
    "print(regex.match('1,234'))\n",
    "print(regex.match('6,368,745'))\n",
    "print(regex.match('12,34,567'))\n",
    "print(regex.match('1234'))"
   ]
  },
  {
   "cell_type": "markdown",
   "id": "07761b4c",
   "metadata": {},
   "source": [
    "Q21. How would you write a regex that matches the full name of someone whose last name is Watanabe? You can assume that the first name that comes before it will always be one word that begins with a capital letter. The regex must match the following:\n",
    "\n",
    "'Haruto Watanabe'\n",
    "\n",
    "'Alice Watanabe'\n",
    "\n",
    "'RoboCop Watanabe'\n",
    "\n",
    "but not the following:\n",
    "\n",
    "'haruto Watanabe' (where the first name is not capitalized)\n",
    "\n",
    "'Mr. Watanabe' (where the preceding word has a nonletter character)\n",
    "\n",
    "'Watanabe' (which has no first name)\n",
    "\n",
    "'Haruto watanabe' (where Watanabe is not capitalized)\n",
    "\n",
    "Ans: \n",
    "To match the full name of someone whose last name is Watanabe, with the assumption that the first name before it will always be one word that begins with a capital letter, the following regex can be used:\n",
    "\n",
    "r'[A-Z][a-z]*\\sWatanabe'\n",
    "\n",
    "This regex will match 'Haruto Watanabe', 'Alice Watanabe', and 'RoboCop Watanabe', but not 'haruto Watanabe', 'Mr. Watanabe', 'Watanabe', or 'Haruto watanabe'."
   ]
  },
  {
   "cell_type": "code",
   "execution_count": 13,
   "id": "fa187c1c",
   "metadata": {},
   "outputs": [
    {
     "name": "stdout",
     "output_type": "stream",
     "text": [
      "<re.Match object; span=(0, 15), match='Haruto Watanabe'>\n",
      "<re.Match object; span=(0, 14), match='Alice Watanabe'>\n",
      "None\n",
      "None\n",
      "None\n",
      "None\n",
      "None\n"
     ]
    }
   ],
   "source": [
    "import re\n",
    "\n",
    "pattern = r'[A-Z][a-z]*\\sWatanabe'\n",
    "regex = re.compile(pattern)\n",
    "\n",
    "print(regex.match('Haruto Watanabe'))\n",
    "print(regex.match('Alice Watanabe'))\n",
    "print(regex.match('RoboCop Watanabe'))\n",
    "print(regex.match('haruto Watanabe'))\n",
    "print(regex.match('Mr. Watanabe'))\n",
    "print(regex.match('Watanabe'))\n",
    "print(regex.match('Haruto watanabe'))"
   ]
  },
  {
   "cell_type": "markdown",
   "id": "f33a6f97",
   "metadata": {},
   "source": [
    "Q22. How would you write a regex that matches a sentence where the first word is either Alice, Bob, or Carol; the second word is either eats, pets, or throws; the third word is apples, cats, or baseballs; and the sentence ends with a period? This regex should be case-insensitive. It must match the following:\n",
    "\n",
    "'Alice eats apples.'\n",
    "\n",
    "'Bob pets cats.'\n",
    "\n",
    "'Carol throws baseballs.'\n",
    "\n",
    "'Alice throws Apples.'\n",
    "\n",
    "'BOB EATS CATS.'\n",
    "\n",
    "but not the following:\n",
    "\n",
    "'RoboCop eats apples.'\n",
    "\n",
    "'ALICE THROWS FOOTBALLS.'\n",
    "\n",
    "'Carol eats 7 cats.'\n",
    "\n",
    "Ans: write the following regex to match the given criteria:\n",
    "\n",
    "^(Alice|Bob|Carol)\\s+(eats|pets|throws)\\s+(apples|cats|baseballs)\\.$\n"
   ]
  },
  {
   "cell_type": "code",
   "execution_count": 12,
   "id": "8cf76326",
   "metadata": {
    "scrolled": true
   },
   "outputs": [],
   "source": [
    "import re\n",
    "\n",
    "regex = re.compile('^(Alice|Bob|Carol)\\s+(eats|pets|throws)\\s+(apples|cats|baseballs)\\.$', re.IGNORECASE)"
   ]
  }
 ],
 "metadata": {
  "kernelspec": {
   "display_name": "Python 3 (ipykernel)",
   "language": "python",
   "name": "python3"
  },
  "language_info": {
   "codemirror_mode": {
    "name": "ipython",
    "version": 3
   },
   "file_extension": ".py",
   "mimetype": "text/x-python",
   "name": "python",
   "nbconvert_exporter": "python",
   "pygments_lexer": "ipython3",
   "version": "3.9.13"
  }
 },
 "nbformat": 4,
 "nbformat_minor": 5
}
