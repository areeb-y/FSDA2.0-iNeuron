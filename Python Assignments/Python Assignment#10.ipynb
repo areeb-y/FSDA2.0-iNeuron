{
 "cells": [
  {
   "cell_type": "markdown",
   "id": "1709aeee",
   "metadata": {},
   "source": [
    "# Assignment 10"
   ]
  },
  {
   "cell_type": "markdown",
   "id": "24db23b1",
   "metadata": {},
   "source": [
    "Q1. How do you distinguish between shutil.copy() and shutil.copytree()?\n",
    "\n",
    "Ans: The shutil module in Python provides functions for copying files and directories. The main difference between shutil.copy() and shutil.copytree() is that copy() is used to copy a single file from one location to another, while copytree() is used to copy an entire directory tree from one location to another.\n",
    "\n",
    "shutil.copy(src, dst, *, follow_symlinks=True):\n",
    "\n",
    "This function is used to copy a file src to a new file or directory dst. If dst specifies a directory, the file is copied into dst using the base filename from src. If dst already exists, it will be replaced. By default, this function follows symbolic links encountered in the source path.\n",
    "\n",
    "shutil.copytree(src, dst, symlinks=False, ignore=None, copy_function=copy2, ignore_dangling_symlinks=False, dirs_exist_ok=False):\n",
    "\n",
    "This function is used to recursively copy an entire directory tree from src to dst. If dst already exists, it will raise a FileExistsError exception unless the dirs_exist_ok argument is set to True. By default, this function does not copy symbolic links or their targets, but this behavior can be changed by setting the symlinks argument to True.\n",
    "\n",
    "In summary, shutil.copy() is used to copy a single file, while shutil.copytree() is used to copy an entire directory tree.\n",
    "\n",
    "\n",
    "\n",
    "\n"
   ]
  },
  {
   "cell_type": "markdown",
   "id": "daaf0321",
   "metadata": {},
   "source": [
    "Q2. What function is used to rename files?\n",
    "\n",
    "Ans: The os.rename() function is used to rename files in Python."
   ]
  },
  {
   "cell_type": "markdown",
   "id": "4ee096fb",
   "metadata": {},
   "source": [
    "Q3. What is the difference between the delete functions in the send2trash and shutil modules?\n",
    "\n",
    "Ans: The send2trash module and the shutil module both have functions to delete files, but they work in different ways.\n",
    "\n",
    "The send2trash module provides a function called send2trash() that sends a file or folder to the operating system's trash or recycle bin rather than deleting it permanently. This means that the user can still retrieve the deleted file from the trash or recycle bin if they realize later that they need it.\n",
    "\n",
    "On the other hand, the shutil module provides a function called os.remove() and os.rmdir() to delete files and empty directories respectively. These functions permanently delete the file or directory from the file system, and the data cannot be recovered unless the user has made a backup of the file.\n",
    "\n",
    "It's worth noting that the shutil module also provides a function called shutil.rmtree() that can delete a directory and all of its contents recursively, but this function does not send the files to the trash or recycle bin. It deletes the files and directories permanently."
   ]
  },
  {
   "cell_type": "markdown",
   "id": "1dc428c1",
   "metadata": {},
   "source": [
    "Q4. ZipFile objects have a close() method just like File objects’ close() method. What ZipFile method is\n",
    "equivalent to File objects’ open() method?\n",
    "\n",
    "Ans: The ZipFile method equivalent to File objects' open() method is the ZipFile() method."
   ]
  },
  {
   "cell_type": "markdown",
   "id": "66c8295d",
   "metadata": {},
   "source": [
    "Q5. Create a programme that searches a folder tree for files with a certain file extension (such as .pdf\n",
    "or .jpg). Copy these files from whatever location they are in to a new folder.\n",
    "\n",
    "Ans: Here is an program that searches a folder tree for files with a certain file extension (in this case, .pdf) and copies them to a new folder. The program uses the os, shutil, and fnmatch modules to achieve this:"
   ]
  },
  {
   "cell_type": "code",
   "execution_count": 1,
   "id": "3e470dd6",
   "metadata": {},
   "outputs": [],
   "source": [
    "import os\n",
    "import shutil\n",
    "import fnmatch"
   ]
  },
  {
   "cell_type": "code",
   "execution_count": 7,
   "id": "b9292a61",
   "metadata": {},
   "outputs": [],
   "source": [
    "# The root directory to search in\n",
    "root = \"C:/Users/Abhishek/Desktop/DSR\""
   ]
  },
  {
   "cell_type": "code",
   "execution_count": 8,
   "id": "265188d4",
   "metadata": {},
   "outputs": [],
   "source": [
    "# The destination directory for the copied files\n",
    "destination = \"C:/Users/Abhishek/Desktop/Destination\""
   ]
  },
  {
   "cell_type": "code",
   "execution_count": 9,
   "id": "494431d2",
   "metadata": {},
   "outputs": [],
   "source": [
    "# The file extension to search for\n",
    "file_extension = '*.pdf'"
   ]
  },
  {
   "cell_type": "code",
   "execution_count": 11,
   "id": "015c1e97",
   "metadata": {},
   "outputs": [],
   "source": [
    "# Loop through all subdirectories in the root directory\n",
    "for dirpath, dirname, filenames in os.walk(root):\n",
    "    # Loop through all files in the current directory\n",
    "    for filename in filenames:\n",
    "        # Check if the file has the desired extension\n",
    "        if fnmatch.fnmatch(filename, file_extension):\n",
    "            # Build the full path to the current file\n",
    "            full_path = os.path.join(dirpath, filename)\n",
    "            # Copy the file to the destination directory\n",
    "            shutil.copy(full_path,destination)            "
   ]
  }
 ],
 "metadata": {
  "kernelspec": {
   "display_name": "Python 3 (ipykernel)",
   "language": "python",
   "name": "python3"
  },
  "language_info": {
   "codemirror_mode": {
    "name": "ipython",
    "version": 3
   },
   "file_extension": ".py",
   "mimetype": "text/x-python",
   "name": "python",
   "nbconvert_exporter": "python",
   "pygments_lexer": "ipython3",
   "version": "3.9.13"
  }
 },
 "nbformat": 4,
 "nbformat_minor": 5
}
