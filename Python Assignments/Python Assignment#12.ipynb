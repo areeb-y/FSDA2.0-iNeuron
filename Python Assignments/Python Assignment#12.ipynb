{
 "cells": [
  {
   "cell_type": "markdown",
   "id": "cf235362",
   "metadata": {},
   "source": [
    "# Assignment 12"
   ]
  },
  {
   "cell_type": "markdown",
   "id": "fa02c1df",
   "metadata": {},
   "source": [
    "Q1. In what modes should the PdfFileReader() and PdfFileWriter() File objects will be opened?\n",
    "\n",
    "Ans: In PyPDF2 library, the PdfFileReader() and PdfFileWriter() objects should be opened in binary mode 'rb' and 'wb', respectively.\n",
    "\n",
    "When opening the PDF file for reading, 'rb' mode is used because the PDF file is a binary file format. And when opening the file for writing, 'wb' mode is used because the PdfFileWriter() object writes PDF content to a new file."
   ]
  },
  {
   "cell_type": "markdown",
   "id": "9c39d1f8",
   "metadata": {},
   "source": [
    "Q2. From a PdfFileReader object, how do you get a Page object for page 5?\n",
    "\n",
    "Ans: To get a Page object for page 5 from a PdfFileReader object in Python, you can use the getPage() method and pass in the index of the page you want (remembering that the index is zero-based)."
   ]
  },
  {
   "cell_type": "markdown",
   "id": "a3fb790b",
   "metadata": {},
   "source": [
    "Q3. What PdfFileReader variable stores the number of pages in the PDF document?\n",
    "\n",
    "Ans: The 'numPages' variable of a PdfFileReader object stores the number of pages in the PDF document."
   ]
  },
  {
   "cell_type": "markdown",
   "id": "3409b7d2",
   "metadata": {},
   "source": [
    "Q4. If a PdfFileReader object’s PDF is encrypted with the password swordfish, what must you do\n",
    "before you can obtain Page objects from it?\n",
    "\n",
    "Ans: If a PdfFileReader object’s PDF is encrypted with the password swordfish, you must use the decrypt() method and provide the password as an argument before you can obtain Page objects from it."
   ]
  },
  {
   "cell_type": "markdown",
   "id": "24e118a8",
   "metadata": {},
   "source": [
    "Q5. What methods do you use to rotate a page?\n",
    "\n",
    "Ans: \n",
    "To rotate a page in PyPDF2 module, you can use the rotateClockwise() or rotateCounterClockwise() method of a PageObject instance. These methods will rotate the page clockwise or counterclockwise by 90 degrees, respectively.  "
   ]
  },
  {
   "cell_type": "markdown",
   "id": "23f4daf0",
   "metadata": {},
   "source": [
    "Q6. What is the difference between a Run object and a Paragraph object?\n",
    "\n",
    "Ans: In Python's python-docx module, a Paragraph object represents a single paragraph in a Word document and contains one or more Run objects.\n",
    "\n",
    "A Run object represents a contiguous run of text within a single paragraph that has the same character style."
   ]
  },
  {
   "cell_type": "markdown",
   "id": "b4e929ae",
   "metadata": {},
   "source": [
    "Q7. How do you obtain a list of Paragraph objects for a Document object that’s stored in a variable\n",
    "named doc?\n",
    "\n",
    "Ans: You can obtain a list of Paragraph objects for a Document object that’s stored in a variable named doc by calling the doc.paragraphs attribute. This will return a list of all the Paragraph objects in the Document. "
   ]
  },
  {
   "cell_type": "markdown",
   "id": "feadf9f1",
   "metadata": {},
   "source": [
    "Q8. What type of object has bold, underline, italic, strike, and outline variables?\n",
    "\n",
    "Ans: The Run object has the variables bold, underline, italic, strike, and outline."
   ]
  },
  {
   "cell_type": "markdown",
   "id": "7acdba1f",
   "metadata": {},
   "source": [
    "Q9. What is the difference between False, True, and None for the bold variable?\n",
    "\n",
    "Ans: In the context of working with Python's docx module, the bold variable can take on three different values: True, False, and None.\n",
    "\n",
    "If bold is set to True, the text will be bold.\n",
    "\n",
    "If bold is set to False, the text will not be bold.\n",
    "\n",
    "If bold is set to None, the text will inherit its bold setting from the style applied to the text's parent element."
   ]
  },
  {
   "cell_type": "markdown",
   "id": "aef380ed",
   "metadata": {},
   "source": [
    "Q10. How do you create a Document object for a new Word document?\n",
    "\n",
    "Ans: To create a Document object for a new Word document in Python, you need to first import the docx module and call the Document() function."
   ]
  },
  {
   "cell_type": "markdown",
   "id": "ad512e12",
   "metadata": {},
   "source": [
    "Q11. How do you add a paragraph with the text 'Hello, there!' to a Document object stored in a\n",
    "variable named doc?\n",
    "\n",
    "Ans: You can add a paragraph with the text 'Hello, there!' to a Document object stored in a variable named doc by using the add_paragraph() method as follows:"
   ]
  },
  {
   "cell_type": "code",
   "execution_count": 3,
   "id": "0b14e15b",
   "metadata": {
    "scrolled": true
   },
   "outputs": [
    {
     "data": {
      "text/plain": [
       "<docx.text.paragraph.Paragraph at 0x1f1d4042640>"
      ]
     },
     "execution_count": 3,
     "metadata": {},
     "output_type": "execute_result"
    }
   ],
   "source": [
    "from docx import Document\n",
    "\n",
    "# create a new document\n",
    "doc = Document()\n",
    "\n",
    "# add a new paragraph to the document\n",
    "doc.add_paragraph('Hello, there!')"
   ]
  },
  {
   "cell_type": "markdown",
   "id": "dd238d03",
   "metadata": {},
   "source": [
    "Q12. What integers represent the levels of headings available in Word documents?\n",
    "\n",
    "Ans: In Word documents, the following integers represent the levels of headings:\n",
    "\n",
    "0: Not a heading\n",
    "\n",
    "1: Top-level heading\n",
    "\n",
    "2: Second-level heading\n",
    "\n",
    "3: Third-level heading\n",
    "\n",
    "4: Fourth-level heading\n",
    "\n",
    "5: Fifth-level heading\n",
    "\n",
    "6: Sixth-level heading\n",
    "\n",
    "7: Seventh-level heading"
   ]
  },
  {
   "cell_type": "code",
   "execution_count": null,
   "id": "906378bf",
   "metadata": {},
   "outputs": [],
   "source": []
  }
 ],
 "metadata": {
  "kernelspec": {
   "display_name": "Python 3 (ipykernel)",
   "language": "python",
   "name": "python3"
  },
  "language_info": {
   "codemirror_mode": {
    "name": "ipython",
    "version": 3
   },
   "file_extension": ".py",
   "mimetype": "text/x-python",
   "name": "python",
   "nbconvert_exporter": "python",
   "pygments_lexer": "ipython3",
   "version": "3.9.13"
  }
 },
 "nbformat": 4,
 "nbformat_minor": 5
}
