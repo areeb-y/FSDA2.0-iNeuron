{
 "cells": [
  {
   "cell_type": "markdown",
   "id": "5b197b79",
   "metadata": {},
   "source": [
    "# Assignment 22\n"
   ]
  },
  {
   "cell_type": "markdown",
   "id": "ecc15c66",
   "metadata": {},
   "source": [
    "Q1. What is the result of the code, and explain?\n",
    "\n",
    "\n",
    ">>> X = 'iNeuron'\n",
    "\n",
    "\n",
    ">>> def func():\n",
    "\n",
    "print(X)\n",
    "\n",
    "\n",
    ">>> func()\n"
   ]
  },
  {
   "cell_type": "code",
   "execution_count": 21,
   "id": "f0fa95c2",
   "metadata": {},
   "outputs": [
    {
     "name": "stdout",
     "output_type": "stream",
     "text": [
      "iNeuron\n"
     ]
    }
   ],
   "source": [
    "X = 'iNeuron'\n",
    "def func():\n",
    "    print(X)\n",
    "    \n",
    "func()"
   ]
  },
  {
   "cell_type": "markdown",
   "id": "a179e4f2",
   "metadata": {},
   "source": [
    "- Explanation:\n",
    "\n",
    "The variable X is defined in the global scope with the value 'iNeuron'. The func() function doesn't have a local variable X defined within its scope. So when func() is called and print(X) is executed, it looks for the variable X in the enclosing scope, which is the global scope in this case. Therefore, it prints the value of the global variable X, which is 'iNeuron'."
   ]
  },
  {
   "cell_type": "markdown",
   "id": "c7d01079",
   "metadata": {},
   "source": [
    "# "
   ]
  },
  {
   "cell_type": "markdown",
   "id": "afae2963",
   "metadata": {},
   "source": [
    "Q2. What is the result of the code, and explain?\n",
    "\n",
    "\n",
    ">>> X = 'iNeuron'\n",
    "\n",
    ">>> def func():\n",
    "\n",
    "X = 'NI!'\n",
    "\n",
    "\n",
    ">>> func()\n",
    "\n",
    ">>> print(X)\n"
   ]
  },
  {
   "cell_type": "code",
   "execution_count": 2,
   "id": "78ddccb3",
   "metadata": {},
   "outputs": [
    {
     "name": "stdout",
     "output_type": "stream",
     "text": [
      "iNeuron\n"
     ]
    }
   ],
   "source": [
    "X = 'iNeuron'\n",
    "def func():\n",
    "    X = 'NI!'\n",
    "\n",
    "\n",
    "func()\n",
    "print(X)"
   ]
  },
  {
   "cell_type": "markdown",
   "id": "17aa3dbc",
   "metadata": {},
   "source": [
    "- Explanation:\n",
    "\n",
    "Initially, the variable X is assigned the value 'iNeuron' in the global scope. Then, the func() function is defined. Inside the func() function, a new local variable X is created and assigned the value 'NI!'. However, this local variable X is different from the global variable X defined outside the function.\n",
    "\n",
    "When the func() function is called with func(), it does not produce any output or result.\n",
    "\n",
    "After that, when print(X) is executed outside the function, it refers to the global variable X and prints its value, which is still 'iNeuron'. The local variable X defined inside the func() function does not affect the value of the global variable X."
   ]
  },
  {
   "cell_type": "markdown",
   "id": "466aa05c",
   "metadata": {},
   "source": [
    "# "
   ]
  },
  {
   "cell_type": "markdown",
   "id": "de1d47bd",
   "metadata": {},
   "source": [
    "Q3. What does this code print, and why?\n",
    "\n",
    "\n",
    ">>> X = 'iNeuron'\n",
    "\n",
    ">>> def func():\n",
    "\n",
    "    X = 'NI'\n",
    "\n",
    "    print(X)\n",
    "\n",
    "\n",
    ">>> func()\n",
    "\n",
    ">>> print(X)\n"
   ]
  },
  {
   "cell_type": "code",
   "execution_count": 4,
   "id": "f417575b",
   "metadata": {},
   "outputs": [
    {
     "name": "stdout",
     "output_type": "stream",
     "text": [
      "NI\n",
      "iNeuron\n"
     ]
    }
   ],
   "source": [
    "X = 'iNeuron'\n",
    "def func():\n",
    "    X = 'NI'\n",
    "    print(X)\n",
    "    \n",
    "func()\n",
    "print(X)"
   ]
  },
  {
   "cell_type": "markdown",
   "id": "d01f61bc",
   "metadata": {},
   "source": [
    "- Explanation:\n",
    "\n",
    "Initially, the variable X is assigned the value 'iNeuron' in the global scope. Then, the func() function is defined. Inside the func() function, a new local variable X is created and assigned the value 'NI'. This local variable X is different from the global variable X defined outside the function.\n",
    "\n",
    "When the func() function is called with func(), it prints the value of the local variable X, which is 'NI'.\n",
    "\n",
    "After that, when print(X) is executed outside the function, it refers to the global variable X and prints its value, which is still 'iNeuron'. The local variable X defined inside the func() function does not affect the value of the global variable X."
   ]
  },
  {
   "cell_type": "markdown",
   "id": "0d6eedaa",
   "metadata": {},
   "source": [
    "# "
   ]
  },
  {
   "cell_type": "markdown",
   "id": "8acc49ff",
   "metadata": {},
   "source": [
    "Q4.What output does this code produce? Why?\n",
    "\n",
    "\n",
    ">>> X = 'iNeuron'\n",
    "\n",
    ">>> def func():\n",
    "\n",
    "    global X\n",
    "\n",
    "    X = 'NI'\n",
    "\n",
    "\n",
    ">>> func()\n",
    "\n",
    ">>> print(X)\n"
   ]
  },
  {
   "cell_type": "code",
   "execution_count": 5,
   "id": "43073d6c",
   "metadata": {},
   "outputs": [
    {
     "name": "stdout",
     "output_type": "stream",
     "text": [
      "NI\n"
     ]
    }
   ],
   "source": [
    "X = 'iNeuron'\n",
    "def func():\n",
    "    global X\n",
    "    X = 'NI'\n",
    "    \n",
    "func()\n",
    "print(X)\n"
   ]
  },
  {
   "cell_type": "markdown",
   "id": "b8a7f9a6",
   "metadata": {},
   "source": [
    "- Explanation:\n",
    "\n",
    "In this code, we have a global variable X assigned the value 'iNeuron'. Inside the func() function, we use the global keyword to declare X as a global variable. Then, we assign 'NI' to the global variable X within the function.\n",
    "\n",
    "When the func() function is called with func(), it modifies the global variable X to 'NI'.\n",
    "\n",
    "After that, when print(X) is executed outside the function, it refers to the updated global variable X, which now holds the value 'NI'."
   ]
  },
  {
   "cell_type": "markdown",
   "id": "8abb5e60",
   "metadata": {},
   "source": [
    "Q5.What about this code—what’s the output, and why?\n",
    "\n",
    "\n",
    ">>> X = 'iNeuron'\n",
    "\n",
    ">>> def func():\n",
    "\n",
    "    X = 'NI'\n",
    "\n",
    "    def nested():\n",
    "\n",
    "        print(X)\n",
    "\n",
    "nested()\n",
    "\n",
    "\n",
    ">>> func()\n",
    "\n",
    ">>> X\n"
   ]
  },
  {
   "cell_type": "code",
   "execution_count": 11,
   "id": "26342d70",
   "metadata": {},
   "outputs": [
    {
     "name": "stdout",
     "output_type": "stream",
     "text": [
      "NI\n"
     ]
    },
    {
     "data": {
      "text/plain": [
       "'iNeuron'"
      ]
     },
     "execution_count": 11,
     "metadata": {},
     "output_type": "execute_result"
    }
   ],
   "source": [
    "X = 'iNeuron'\n",
    "def func():\n",
    "    X = 'NI'\n",
    "    def nested():\n",
    "        print(X)\n",
    "    nested()\n",
    "func()\n",
    "X"
   ]
  },
  {
   "cell_type": "markdown",
   "id": "28f6e7fe",
   "metadata": {},
   "source": [
    "- Explanation:\n",
    "\n",
    "In this code, there is a global variable X initialized with the value 'iNeuron'. Inside the func() function, there is a local variable X that is assigned the value 'NI'.\n",
    "\n",
    "The func() function also contains a nested function nested(), which prints the value of the local variable X from the enclosing scope of nested(). When func() is called, it invokes the nested() function, and it prints the value 'NI'.\n",
    "\n",
    "After the function calls, when X is printed outside the function, it refers to the global variable X, which holds the value 'iNeuron'. Therefore, 'iNeuron' is printed as the final output."
   ]
  },
  {
   "cell_type": "markdown",
   "id": "620e26cb",
   "metadata": {},
   "source": [
    "Q6.6. How about this code: what is its output in Python 3, and explain?\n",
    "\n",
    "\n",
    ">>> def func():\n",
    "\n",
    "    X = 'NI'\n",
    "\n",
    "    def nested():\n",
    "\n",
    "        nonlocal X\n",
    "\n",
    "        X = 'Spam'\n",
    "\n",
    "        nested()\n",
    "        print(X)\n",
    "\n",
    "\n",
    ">>> func()\n"
   ]
  },
  {
   "cell_type": "code",
   "execution_count": 27,
   "id": "2e278a70",
   "metadata": {},
   "outputs": [
    {
     "name": "stdout",
     "output_type": "stream",
     "text": [
      "Spam\n"
     ]
    }
   ],
   "source": [
    "def func():\n",
    "    X = 'NI'\n",
    "    def nested():\n",
    "        nonlocal X\n",
    "        X = 'Spam'\n",
    "    nested()\n",
    "    print(X)\n",
    "func()"
   ]
  },
  {
   "cell_type": "markdown",
   "id": "711cd285",
   "metadata": {},
   "source": [
    "- Explanation:\n",
    "\n",
    "The func() function defines a local variable X with the value 'NI'.\n",
    "\n",
    "Inside func(), the nested function nested() is defined.\n",
    "\n",
    "The nonlocal keyword is used to indicate that the X variable being assigned to within nested() is the same variable defined in \n",
    "the nearest enclosing scope (func() in this case).\n",
    "\n",
    "Inside nested(), the X variable is reassigned to the value 'Spam'.\n",
    "\n",
    "After the execution of nested(), the print(X) statement is executed within func(), which prints the value 'Spam'. The nonlocal keyword allows the inner nested() function to modify the variable in the outer func() function."
   ]
  },
  {
   "cell_type": "code",
   "execution_count": null,
   "id": "1db49463",
   "metadata": {},
   "outputs": [],
   "source": []
  }
 ],
 "metadata": {
  "kernelspec": {
   "display_name": "Python 3 (ipykernel)",
   "language": "python",
   "name": "python3"
  },
  "language_info": {
   "codemirror_mode": {
    "name": "ipython",
    "version": 3
   },
   "file_extension": ".py",
   "mimetype": "text/x-python",
   "name": "python",
   "nbconvert_exporter": "python",
   "pygments_lexer": "ipython3",
   "version": "3.9.13"
  }
 },
 "nbformat": 4,
 "nbformat_minor": 5
}
