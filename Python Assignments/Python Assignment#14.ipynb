{
 "cells": [
  {
   "cell_type": "markdown",
   "id": "1250bd08",
   "metadata": {},
   "source": [
    "# Assignment 14"
   ]
  },
  {
   "cell_type": "markdown",
   "id": "9804d257",
   "metadata": {},
   "source": [
    "Q1. What does RGBA stand for?\n",
    "\n",
    "Ans: RGBA stands for Red Green Blue Alpha. It is a color model that represents colors using combinations of red, green, blue, and alpha (transparency) channels. Each channel is represented by an integer value ranging from 0 to 255, where 0 represents no intensity and 255 represents maximum intensity. The alpha channel determines the transparency of the color, with 0 being fully transparent and 255 being fully opaque."
   ]
  },
  {
   "cell_type": "markdown",
   "id": "f4b25c88",
   "metadata": {},
   "source": [
    "Q2. From the Pillow module, how do you get the RGBA value of any images?\n",
    "\n",
    "Ans:To get the RGBA (Red Green Blue Alpha) value of pixels in an image using the Pillow module in Python, you can use the getpixel() method."
   ]
  },
  {
   "cell_type": "markdown",
   "id": "ed8d558c",
   "metadata": {},
   "source": [
    "Q3. What is a box tuple, and how does it work?\n",
    "\n",
    "Ans: In the context of image processing and libraries like Pillow, a box tuple refers to a tuple that represents a rectangular region or bounding box in an image. It consists of four integer values in the order (left, upper, right, lower).\n",
    "\n",
    "Here's what each value in the box tuple represents:\n",
    "\n",
    "- left: The x-coordinate of the left edge of the box.\n",
    "\n",
    "- upper: The y-coordinate of the upper edge of the box.\n",
    "\n",
    "- right: The x-coordinate of the right edge of the box.\n",
    "\n",
    "- lower: The y-coordinate of the lower edge of the box.\n",
    "\n",
    "The box tuple defines a rectangular region in an image by specifying the coordinates of its four edges. The coordinates are typically measured in pixels, with the origin (0, 0) located at the top-left corner of the image.\n",
    "\n",
    "Box tuples are commonly used in image processing operations such as cropping, resizing, and extracting regions of interest from an image. They provide a convenient way to specify and manipulate rectangular regions within an image."
   ]
  },
  {
   "cell_type": "markdown",
   "id": "64295581",
   "metadata": {},
   "source": [
    "Q4. Use your image and load in notebook then, How can you find out the width and height of an\n",
    "Image object?\n",
    "\n",
    "Ans: To find out the width and height of an Image object using the Pillow library, you can use the size attribute of the Image object."
   ]
  },
  {
   "cell_type": "code",
   "execution_count": 3,
   "id": "772cb487",
   "metadata": {},
   "outputs": [
    {
     "name": "stdout",
     "output_type": "stream",
     "text": [
      "Width: 4032px\n",
      "height: 3024px\n"
     ]
    }
   ],
   "source": [
    "# Here's an example:\n",
    "\n",
    "from PIL import Image\n",
    "\n",
    "# Open the image file\n",
    "image = Image.open(\"C:/Users/Abhishek/Downloads/franki-chamaki-ivfp_yxZuYQ-unsplash.jpg\")\n",
    "\n",
    "# Get thw width and height of the image\n",
    "width, height = image.size\n",
    "\n",
    "# Print the width and height\n",
    "print(f\"Width: {width}px\")\n",
    "print(f\"height: {height}px\")"
   ]
  },
  {
   "cell_type": "markdown",
   "id": "bbdb9d15",
   "metadata": {},
   "source": [
    "Q5. What method would you call to get Image object for a 100×100 image, excluding the lower-left\n",
    "quarter of it?\n",
    "\n",
    "Ans: To get an Image object for a 100x100 image, excluding the lower-left quarter of it, you can use the crop() method from the Pillow library. \n",
    "\n"
   ]
  },
  {
   "cell_type": "markdown",
   "id": "e320bf06",
   "metadata": {},
   "source": [
    "Q6. After making changes to an Image object, how could you save it as an image file?\n",
    "\n",
    "Ans: After making changes to an Image object using the Pillow library, you can save it as an image file using the save() method."
   ]
  },
  {
   "cell_type": "markdown",
   "id": "34ec3e7f",
   "metadata": {},
   "source": [
    "Q7. What module contains Pillow’s shape-drawing code?\n",
    "\n",
    "Ans: \n",
    "The shape-drawing code in the Pillow library is part of the ImageDraw module. The ImageDraw module provides functions to draw various shapes, such as lines, rectangles, ellipses, polygons, and more, on an Image object. You can use the ImageDraw module to add custom shapes and annotations to your images."
   ]
  },
  {
   "cell_type": "markdown",
   "id": "a5facb30",
   "metadata": {},
   "source": [
    "Q8. Image objects do not have drawing methods. What kind of object does? How do you get this kind\n",
    "of object?\n",
    "\n",
    "Ans: \n",
    "Image objects typically represent static images and do not have inherent drawing methods. If you want to manipulate and draw on an image, you would need to use a graphics library or framework that provides drawing capabilities.\n",
    "\n",
    "One popular library for drawing on images is Pillow, a Python imaging library. Pillow provides a variety of drawing methods such as lines, circles, rectangles, text, etc. To use Pillow, you would need to install it using pip, the Python package manager, and then import it into your Python program."
   ]
  }
 ],
 "metadata": {
  "kernelspec": {
   "display_name": "Python 3 (ipykernel)",
   "language": "python",
   "name": "python3"
  },
  "language_info": {
   "codemirror_mode": {
    "name": "ipython",
    "version": 3
   },
   "file_extension": ".py",
   "mimetype": "text/x-python",
   "name": "python",
   "nbconvert_exporter": "python",
   "pygments_lexer": "ipython3",
   "version": "3.9.13"
  }
 },
 "nbformat": 4,
 "nbformat_minor": 5
}
