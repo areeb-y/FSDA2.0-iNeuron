{
 "cells": [
  {
   "cell_type": "markdown",
   "id": "745ac53e",
   "metadata": {},
   "source": [
    "# Assignment 25"
   ]
  },
  {
   "cell_type": "markdown",
   "id": "bf53a7ae",
   "metadata": {},
   "source": [
    "Q1.What is the difference between enclosing a list comprehension in square brackets and\n",
    "parentheses?\n",
    "\n",
    "Ans:The difference between enclosing a list comprehension in square brackets [] and parentheses () lies in the resulting object type.\n",
    "\n",
    "- Square Brackets []: When a list comprehension is enclosed in square brackets, it creates a new list object. The resulting expression is evaluated immediately, and the list comprehension returns a list containing the generated elements. \n",
    "\n",
    "- Parentheses (): When a list comprehension is enclosed in parentheses, it creates a generator object known as a generator comprehension. The generator comprehension doesn't evaluate the expression immediately, but rather creates an iterator that can be used to lazily generate the elements on-demand. This can be useful when dealing with large data sets or when memory efficiency is a concern.\n",
    "\n",
    "To obtain the elements from a generator comprehension, you can iterate over it using a loop or convert it to a list explicitly using the list() function."
   ]
  },
  {
   "cell_type": "code",
   "execution_count": null,
   "id": "5699f634",
   "metadata": {},
   "outputs": [],
   "source": []
  },
  {
   "cell_type": "markdown",
   "id": "6098a8d0",
   "metadata": {},
   "source": [
    "Q2.What is the relationship between generators and iterators?\n",
    "\n",
    "Ans:Generators and iterators are closely related concepts in Python.\n",
    "\n",
    "An iterator is an object that implements the iterator protocol, which consists of two methods: __iter__() and __next__(). Iterators are used to iterate over a sequence of elements, and they provide a way to access the elements of a container one at a time without needing to know the underlying structure.\n",
    "\n",
    "Generators, on the other hand, are a special type of iterator. They are defined using generator functions or generator expressions. Generator functions are defined using the yield keyword instead of the return keyword. When a generator function is called, it returns a generator object. Generator expressions are similar to list comprehensions, but they use parentheses instead of square brackets.\n",
    "\n",
    "The key difference between generators and regular iterators is that generators generate values on-the-fly as they are requested, rather than generating all the values upfront. This lazy evaluation allows generators to be memory-efficient, especially when dealing with large data sets or infinite sequences.\n",
    "\n",
    "Generator objects can be iterated over using a loop, or by using the next() function to fetch the next value. Each time the yield statement is encountered, the generator function's state is saved, and the yielded value is returned. The next time the generator is called, execution resumes from where it left off."
   ]
  },
  {
   "cell_type": "code",
   "execution_count": null,
   "id": "8d3aedcd",
   "metadata": {},
   "outputs": [],
   "source": []
  },
  {
   "cell_type": "markdown",
   "id": "db7b35f6",
   "metadata": {},
   "source": [
    "Q3.What are the signs that a function is a generator function?\n",
    "\n",
    "Ans:\n",
    "There are a few signs that indicate a function is a generator function:\n",
    "\n",
    "The presence of the yield keyword: Generator functions use the yield keyword to yield values one at a time, rather than returning a single value like regular functions.\n",
    "\n",
    "Usage of the yield statement: Generator functions contain one or more yield statements within their body. These statements pause the execution of the function and return a value to the caller, but they also maintain the state of the function so that it can be resumed later.\n",
    "\n",
    "Generator function syntax: Generator functions are defined using the def keyword, just like regular functions. However, instead of using the return keyword to return a value, they use yield to yield values from the function."
   ]
  },
  {
   "cell_type": "code",
   "execution_count": 1,
   "id": "4c53febb",
   "metadata": {},
   "outputs": [],
   "source": [
    "#Here's an example of a generator function:\n",
    "\n",
    "def my_generator():\n",
    "    yield 1 \n",
    "    yield 2\n",
    "    yield 3"
   ]
  },
  {
   "cell_type": "code",
   "execution_count": null,
   "id": "232e8e7b",
   "metadata": {},
   "outputs": [],
   "source": []
  },
  {
   "cell_type": "markdown",
   "id": "a288fc92",
   "metadata": {},
   "source": [
    "Q4.What is the purpose of a yield statement?\n",
    "\n",
    "Ans:The yield statement is used in Python to define a generator function and to control the generation of values within that function.\n",
    "\n",
    "When a generator function is called, it returns a generator object, which can be iterated over to retrieve values. Each time the yield statement is encountered in the generator function, it temporarily suspends the function's execution and returns a value to the caller. The state of the function is saved, allowing it to be resumed from where it left off the next time a value is requested from the generator object.\n",
    "\n",
    "The main purpose of the yield statement is to generate a sequence of values on-demand, without having to store them all in memory at once. This is particularly useful when dealing with large data sets or infinite sequences, as it allows for efficient memory usage and lazy evaluation.\n",
    "\n",
    "The yield statement can also receive values from the caller by being used as an expression on the right-hand side of an assignment. This allows the caller to communicate with the generator function, providing inputs or modifying its behavior.\n",
    "\n",
    "Overall, the yield statement enables the creation of iterable generator objects, providing a powerful mechanism for generating values dynamically and efficiently."
   ]
  },
  {
   "cell_type": "code",
   "execution_count": null,
   "id": "4cf3cf06",
   "metadata": {},
   "outputs": [],
   "source": []
  },
  {
   "cell_type": "markdown",
   "id": "543315ca",
   "metadata": {},
   "source": [
    "Q5.What is the relationship between map calls and list comprehensions? Make a comparison and\n",
    "contrast between the two.\n",
    "\n",
    "Ans:Both map calls and list comprehensions in Python are used to apply a function to a sequence of elements and produce a new sequence as a result. However, there are some differences in their syntax and usage:\n",
    "\n",
    "1. Syntax:\n",
    "\n",
    "- map: map(function, sequence)\n",
    "\n",
    "- List comprehension: [expression for item in sequence]\n",
    "\n",
    "2.Result:\n",
    "\n",
    "- map: Returns an iterable map object, which can be converted to other iterable types (e.g., list, tuple) using list() or tuple().\n",
    "\n",
    "- List comprehension: Returns a new list.\n",
    "\n",
    "3.Functionality:\n",
    "\n",
    "- map: Applies the specified function to each item in the sequence and returns the transformed values in the same order as the original sequence.\n",
    "\n",
    "- List comprehension: Allows more flexibility and can include conditions and expressions. It allows you to create a new list by specifying the desired transformation and filtering criteria.\n",
    "\n",
    "4.Readability:\n",
    "\n",
    "- map: May require a separate defined function or a lambda function to be used as the mapping function, which can sometimes reduce readability.\n",
    "\n",
    "- List comprehension: Provides a more concise and readable syntax for applying transformations and filtering in a single line.\n",
    "\n",
    "5.Performance:\n",
    "\n",
    "- map: Can be more efficient when dealing with large data sets or when combined with other lazy evaluation techniques such as generators.\n",
    "\n",
    "- List comprehension: Can be more efficient for smaller data sets or when the entire result needs to be computed at once."
   ]
  },
  {
   "cell_type": "code",
   "execution_count": null,
   "id": "1ce7bb3a",
   "metadata": {},
   "outputs": [],
   "source": []
  }
 ],
 "metadata": {
  "kernelspec": {
   "display_name": "Python 3 (ipykernel)",
   "language": "python",
   "name": "python3"
  },
  "language_info": {
   "codemirror_mode": {
    "name": "ipython",
    "version": 3
   },
   "file_extension": ".py",
   "mimetype": "text/x-python",
   "name": "python",
   "nbconvert_exporter": "python",
   "pygments_lexer": "ipython3",
   "version": "3.9.13"
  }
 },
 "nbformat": 4,
 "nbformat_minor": 5
}
